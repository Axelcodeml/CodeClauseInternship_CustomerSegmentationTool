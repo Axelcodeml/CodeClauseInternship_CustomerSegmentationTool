{
 "cells": [
  {
   "cell_type": "markdown",
   "id": "65054faf",
   "metadata": {},
   "source": [
    "# Customer Segmentation\n",
    "\n",
    "We will use a real dataset provided by a CRM System owned from a Higher Technical Institute in Ecuador. This dataset refers those students/customers who have been enrolled in a Electricity Automotive course. So, the students come from different parts of the city (Quito) and they have different levels of economy, studies, age and more. The Customer Segmentation will help us to classify the students in base of their characteristics."
   ]
  },
  {
   "cell_type": "code",
   "execution_count": 1,
   "id": "abc52dd9",
   "metadata": {},
   "outputs": [
    {
     "name": "stderr",
     "output_type": "stream",
     "text": [
      "C:\\Users\\USER\\anaconda3\\lib\\site-packages\\scipy\\__init__.py:146: UserWarning: A NumPy version >=1.16.5 and <1.23.0 is required for this version of SciPy (detected version 1.26.4\n",
      "  warnings.warn(f\"A NumPy version >={np_minversion} and <{np_maxversion}\"\n"
     ]
    }
   ],
   "source": [
    "import numpy as np\n",
    "import pandas as pd\n",
    "import matplotlib.pyplot as plt\n",
    "import seaborn as sns\n",
    "\n",
    "#import warnings\n",
    "#warnings.filterwarnings(\"ignore\")"
   ]
  },
  {
   "cell_type": "code",
   "execution_count": 2,
   "id": "3916fe93",
   "metadata": {
    "chatgpt_cell": "code",
    "chatgpt_language": "python",
    "chatgpt_thread": "",
    "scrolled": true
   },
   "outputs": [],
   "source": [
    "# Read the CSV files into pandas DataFrames\n",
    "df = pd.read_csv('EAutomotive_Students_2020-2023.csv')\n",
    "df.reset_index(inplace=True)\n",
    "df.drop('index',axis=1,inplace=True)"
   ]
  },
  {
   "cell_type": "code",
   "execution_count": 3,
   "id": "3fc18731",
   "metadata": {
    "scrolled": true
   },
   "outputs": [
    {
     "data": {
      "text/plain": [
       "(271, 16)"
      ]
     },
     "execution_count": 3,
     "metadata": {},
     "output_type": "execute_result"
    }
   ],
   "source": [
    "df.shape"
   ]
  },
  {
   "cell_type": "code",
   "execution_count": 4,
   "id": "a0a3da92",
   "metadata": {},
   "outputs": [],
   "source": [
    "df['matr_fecha_matricula'] = pd.to_datetime(df['matr_fecha_matricula'])\n",
    "df=df[(df['matr_fecha_matricula']>'2021-01-01 00:00:00') & (df['matr_fecha_matricula']<'2023-08-01 00:00:00')]"
   ]
  },
  {
   "cell_type": "code",
   "execution_count": 5,
   "id": "2f88490f",
   "metadata": {},
   "outputs": [
    {
     "data": {
      "text/plain": [
       "Index(['pers_nombres', 'pers_apellidos', 'estu_nivel_estudio',\n",
       "       'estu_cargo_ocupa', 'estu_direccion_trabajo', 'estu_ingresos_mensuales',\n",
       "       'pers_fecha_nacimiento', 'matr_medio_informacion', 'pers_domicilio',\n",
       "       'pers_provincia', 'pers_ciudad', 'pers_sector', 'pers_nacionalidad',\n",
       "       'matr_fecha_matricula', 'matr_estado', 'curs_nombre'],\n",
       "      dtype='object')"
      ]
     },
     "execution_count": 5,
     "metadata": {},
     "output_type": "execute_result"
    }
   ],
   "source": [
    "df.columns"
   ]
  },
  {
   "cell_type": "code",
   "execution_count": 6,
   "id": "764789ba",
   "metadata": {},
   "outputs": [],
   "source": [
    "new_names=['nombres', 'apellidos','estudios', 'ocupación', 'dirtrabajo','ingresos','fecha_nacimiento', \n",
    "        'medio', 'domicilio','provincia','ciudad', 'sector', 'nacionalidad', 'fecha_matricula', 'estado', 'nombre_curso']"
   ]
  },
  {
   "cell_type": "markdown",
   "id": "c03bdc72",
   "metadata": {},
   "source": [
    "# 1. Preprocessing"
   ]
  },
  {
   "cell_type": "code",
   "execution_count": 7,
   "id": "5c153261",
   "metadata": {},
   "outputs": [],
   "source": [
    "i=0\n",
    "for i in range(0,df.columns.shape[0]):\n",
    "    df.rename(columns={df.columns[i]:new_names[i]},inplace=True)"
   ]
  },
  {
   "cell_type": "code",
   "execution_count": 8,
   "id": "4946f7cf",
   "metadata": {},
   "outputs": [
    {
     "data": {
      "text/plain": [
       "(75, 16)"
      ]
     },
     "execution_count": 8,
     "metadata": {},
     "output_type": "execute_result"
    }
   ],
   "source": [
    "df.shape"
   ]
  },
  {
   "cell_type": "code",
   "execution_count": 9,
   "id": "02274091",
   "metadata": {},
   "outputs": [
    {
     "name": "stdout",
     "output_type": "stream",
     "text": [
      "<class 'pandas.core.frame.DataFrame'>\n",
      "Int64Index: 75 entries, 177 to 251\n",
      "Data columns (total 16 columns):\n",
      " #   Column            Non-Null Count  Dtype         \n",
      "---  ------            --------------  -----         \n",
      " 0   nombres           75 non-null     object        \n",
      " 1   apellidos         75 non-null     object        \n",
      " 2   estudios          75 non-null     object        \n",
      " 3   ocupación         75 non-null     object        \n",
      " 4   dirtrabajo        74 non-null     object        \n",
      " 5   ingresos          49 non-null     object        \n",
      " 6   fecha_nacimiento  75 non-null     object        \n",
      " 7   medio             75 non-null     object        \n",
      " 8   domicilio         75 non-null     object        \n",
      " 9   provincia         75 non-null     int64         \n",
      " 10  ciudad            75 non-null     int64         \n",
      " 11  sector            75 non-null     object        \n",
      " 12  nacionalidad      0 non-null      float64       \n",
      " 13  fecha_matricula   75 non-null     datetime64[ns]\n",
      " 14  estado            75 non-null     object        \n",
      " 15  nombre_curso      75 non-null     object        \n",
      "dtypes: datetime64[ns](1), float64(1), int64(2), object(12)\n",
      "memory usage: 10.0+ KB\n"
     ]
    }
   ],
   "source": [
    "df.info()"
   ]
  },
  {
   "cell_type": "code",
   "execution_count": 10,
   "id": "17a03116",
   "metadata": {},
   "outputs": [
    {
     "name": "stderr",
     "output_type": "stream",
     "text": [
      "C:\\Users\\USER\\AppData\\Local\\Temp/ipykernel_1536/377021028.py:1: FutureWarning: Treating datetime data as categorical rather than numeric in `.describe` is deprecated and will be removed in a future version of pandas. Specify `datetime_is_numeric=True` to silence this warning and adopt the future behavior now.\n",
      "  df.describe(include='all').T\n"
     ]
    },
    {
     "data": {
      "text/html": [
       "<div>\n",
       "<style scoped>\n",
       "    .dataframe tbody tr th:only-of-type {\n",
       "        vertical-align: middle;\n",
       "    }\n",
       "\n",
       "    .dataframe tbody tr th {\n",
       "        vertical-align: top;\n",
       "    }\n",
       "\n",
       "    .dataframe thead th {\n",
       "        text-align: right;\n",
       "    }\n",
       "</style>\n",
       "<table border=\"1\" class=\"dataframe\">\n",
       "  <thead>\n",
       "    <tr style=\"text-align: right;\">\n",
       "      <th></th>\n",
       "      <th>count</th>\n",
       "      <th>unique</th>\n",
       "      <th>top</th>\n",
       "      <th>freq</th>\n",
       "      <th>first</th>\n",
       "      <th>last</th>\n",
       "      <th>mean</th>\n",
       "      <th>std</th>\n",
       "      <th>min</th>\n",
       "      <th>25%</th>\n",
       "      <th>50%</th>\n",
       "      <th>75%</th>\n",
       "      <th>max</th>\n",
       "    </tr>\n",
       "  </thead>\n",
       "  <tbody>\n",
       "    <tr>\n",
       "      <th>nombres</th>\n",
       "      <td>75</td>\n",
       "      <td>75</td>\n",
       "      <td>Carlos Hugo</td>\n",
       "      <td>1</td>\n",
       "      <td>NaT</td>\n",
       "      <td>NaT</td>\n",
       "      <td>NaN</td>\n",
       "      <td>NaN</td>\n",
       "      <td>NaN</td>\n",
       "      <td>NaN</td>\n",
       "      <td>NaN</td>\n",
       "      <td>NaN</td>\n",
       "      <td>NaN</td>\n",
       "    </tr>\n",
       "    <tr>\n",
       "      <th>apellidos</th>\n",
       "      <td>75</td>\n",
       "      <td>75</td>\n",
       "      <td>Chiluisa Achi</td>\n",
       "      <td>1</td>\n",
       "      <td>NaT</td>\n",
       "      <td>NaT</td>\n",
       "      <td>NaN</td>\n",
       "      <td>NaN</td>\n",
       "      <td>NaN</td>\n",
       "      <td>NaN</td>\n",
       "      <td>NaN</td>\n",
       "      <td>NaN</td>\n",
       "      <td>NaN</td>\n",
       "    </tr>\n",
       "    <tr>\n",
       "      <th>estudios</th>\n",
       "      <td>75</td>\n",
       "      <td>5</td>\n",
       "      <td>NIVEL03</td>\n",
       "      <td>44</td>\n",
       "      <td>NaT</td>\n",
       "      <td>NaT</td>\n",
       "      <td>NaN</td>\n",
       "      <td>NaN</td>\n",
       "      <td>NaN</td>\n",
       "      <td>NaN</td>\n",
       "      <td>NaN</td>\n",
       "      <td>NaN</td>\n",
       "      <td>NaN</td>\n",
       "    </tr>\n",
       "    <tr>\n",
       "      <th>ocupación</th>\n",
       "      <td>75</td>\n",
       "      <td>4</td>\n",
       "      <td>CARG01</td>\n",
       "      <td>38</td>\n",
       "      <td>NaT</td>\n",
       "      <td>NaT</td>\n",
       "      <td>NaN</td>\n",
       "      <td>NaN</td>\n",
       "      <td>NaN</td>\n",
       "      <td>NaN</td>\n",
       "      <td>NaN</td>\n",
       "      <td>NaN</td>\n",
       "      <td>NaN</td>\n",
       "    </tr>\n",
       "    <tr>\n",
       "      <th>dirtrabajo</th>\n",
       "      <td>74</td>\n",
       "      <td>56</td>\n",
       "      <td>no tiene</td>\n",
       "      <td>8</td>\n",
       "      <td>NaT</td>\n",
       "      <td>NaT</td>\n",
       "      <td>NaN</td>\n",
       "      <td>NaN</td>\n",
       "      <td>NaN</td>\n",
       "      <td>NaN</td>\n",
       "      <td>NaN</td>\n",
       "      <td>NaN</td>\n",
       "      <td>NaN</td>\n",
       "    </tr>\n",
       "    <tr>\n",
       "      <th>ingresos</th>\n",
       "      <td>49</td>\n",
       "      <td>3</td>\n",
       "      <td>INGR01</td>\n",
       "      <td>29</td>\n",
       "      <td>NaT</td>\n",
       "      <td>NaT</td>\n",
       "      <td>NaN</td>\n",
       "      <td>NaN</td>\n",
       "      <td>NaN</td>\n",
       "      <td>NaN</td>\n",
       "      <td>NaN</td>\n",
       "      <td>NaN</td>\n",
       "      <td>NaN</td>\n",
       "    </tr>\n",
       "    <tr>\n",
       "      <th>fecha_nacimiento</th>\n",
       "      <td>75</td>\n",
       "      <td>75</td>\n",
       "      <td>1972-01-09</td>\n",
       "      <td>1</td>\n",
       "      <td>NaT</td>\n",
       "      <td>NaT</td>\n",
       "      <td>NaN</td>\n",
       "      <td>NaN</td>\n",
       "      <td>NaN</td>\n",
       "      <td>NaN</td>\n",
       "      <td>NaN</td>\n",
       "      <td>NaN</td>\n",
       "      <td>NaN</td>\n",
       "    </tr>\n",
       "    <tr>\n",
       "      <th>medio</th>\n",
       "      <td>75</td>\n",
       "      <td>5</td>\n",
       "      <td>MED02</td>\n",
       "      <td>44</td>\n",
       "      <td>NaT</td>\n",
       "      <td>NaT</td>\n",
       "      <td>NaN</td>\n",
       "      <td>NaN</td>\n",
       "      <td>NaN</td>\n",
       "      <td>NaN</td>\n",
       "      <td>NaN</td>\n",
       "      <td>NaN</td>\n",
       "      <td>NaN</td>\n",
       "    </tr>\n",
       "    <tr>\n",
       "      <th>domicilio</th>\n",
       "      <td>75</td>\n",
       "      <td>59</td>\n",
       "      <td>Carapungo</td>\n",
       "      <td>4</td>\n",
       "      <td>NaT</td>\n",
       "      <td>NaT</td>\n",
       "      <td>NaN</td>\n",
       "      <td>NaN</td>\n",
       "      <td>NaN</td>\n",
       "      <td>NaN</td>\n",
       "      <td>NaN</td>\n",
       "      <td>NaN</td>\n",
       "      <td>NaN</td>\n",
       "    </tr>\n",
       "    <tr>\n",
       "      <th>provincia</th>\n",
       "      <td>75.0</td>\n",
       "      <td>NaN</td>\n",
       "      <td>NaN</td>\n",
       "      <td>NaN</td>\n",
       "      <td>NaT</td>\n",
       "      <td>NaT</td>\n",
       "      <td>33.24</td>\n",
       "      <td>2.95388</td>\n",
       "      <td>20.0</td>\n",
       "      <td>34.0</td>\n",
       "      <td>34.0</td>\n",
       "      <td>34.0</td>\n",
       "      <td>34.0</td>\n",
       "    </tr>\n",
       "    <tr>\n",
       "      <th>ciudad</th>\n",
       "      <td>75.0</td>\n",
       "      <td>NaN</td>\n",
       "      <td>NaN</td>\n",
       "      <td>NaN</td>\n",
       "      <td>NaT</td>\n",
       "      <td>NaT</td>\n",
       "      <td>220.626667</td>\n",
       "      <td>32.144847</td>\n",
       "      <td>77.0</td>\n",
       "      <td>229.0</td>\n",
       "      <td>229.0</td>\n",
       "      <td>229.0</td>\n",
       "      <td>229.0</td>\n",
       "    </tr>\n",
       "    <tr>\n",
       "      <th>sector</th>\n",
       "      <td>75</td>\n",
       "      <td>6</td>\n",
       "      <td>UDOM05</td>\n",
       "      <td>54</td>\n",
       "      <td>NaT</td>\n",
       "      <td>NaT</td>\n",
       "      <td>NaN</td>\n",
       "      <td>NaN</td>\n",
       "      <td>NaN</td>\n",
       "      <td>NaN</td>\n",
       "      <td>NaN</td>\n",
       "      <td>NaN</td>\n",
       "      <td>NaN</td>\n",
       "    </tr>\n",
       "    <tr>\n",
       "      <th>nacionalidad</th>\n",
       "      <td>0.0</td>\n",
       "      <td>NaN</td>\n",
       "      <td>NaN</td>\n",
       "      <td>NaN</td>\n",
       "      <td>NaT</td>\n",
       "      <td>NaT</td>\n",
       "      <td>NaN</td>\n",
       "      <td>NaN</td>\n",
       "      <td>NaN</td>\n",
       "      <td>NaN</td>\n",
       "      <td>NaN</td>\n",
       "      <td>NaN</td>\n",
       "      <td>NaN</td>\n",
       "    </tr>\n",
       "    <tr>\n",
       "      <th>fecha_matricula</th>\n",
       "      <td>75</td>\n",
       "      <td>37</td>\n",
       "      <td>2023-07-22 00:00:00</td>\n",
       "      <td>9</td>\n",
       "      <td>2021-02-09</td>\n",
       "      <td>2023-07-22</td>\n",
       "      <td>NaN</td>\n",
       "      <td>NaN</td>\n",
       "      <td>NaN</td>\n",
       "      <td>NaN</td>\n",
       "      <td>NaN</td>\n",
       "      <td>NaN</td>\n",
       "      <td>NaN</td>\n",
       "    </tr>\n",
       "    <tr>\n",
       "      <th>estado</th>\n",
       "      <td>75</td>\n",
       "      <td>3</td>\n",
       "      <td>INSMAT05</td>\n",
       "      <td>52</td>\n",
       "      <td>NaT</td>\n",
       "      <td>NaT</td>\n",
       "      <td>NaN</td>\n",
       "      <td>NaN</td>\n",
       "      <td>NaN</td>\n",
       "      <td>NaN</td>\n",
       "      <td>NaN</td>\n",
       "      <td>NaN</td>\n",
       "      <td>NaN</td>\n",
       "    </tr>\n",
       "    <tr>\n",
       "      <th>nombre_curso</th>\n",
       "      <td>75</td>\n",
       "      <td>1</td>\n",
       "      <td>Electricidad Automotriz</td>\n",
       "      <td>75</td>\n",
       "      <td>NaT</td>\n",
       "      <td>NaT</td>\n",
       "      <td>NaN</td>\n",
       "      <td>NaN</td>\n",
       "      <td>NaN</td>\n",
       "      <td>NaN</td>\n",
       "      <td>NaN</td>\n",
       "      <td>NaN</td>\n",
       "      <td>NaN</td>\n",
       "    </tr>\n",
       "  </tbody>\n",
       "</table>\n",
       "</div>"
      ],
      "text/plain": [
       "                 count unique                      top freq      first  \\\n",
       "nombres             75     75              Carlos Hugo    1        NaT   \n",
       "apellidos           75     75            Chiluisa Achi    1        NaT   \n",
       "estudios            75      5                  NIVEL03   44        NaT   \n",
       "ocupación           75      4                   CARG01   38        NaT   \n",
       "dirtrabajo          74     56                 no tiene    8        NaT   \n",
       "ingresos            49      3                   INGR01   29        NaT   \n",
       "fecha_nacimiento    75     75               1972-01-09    1        NaT   \n",
       "medio               75      5                    MED02   44        NaT   \n",
       "domicilio           75     59                Carapungo    4        NaT   \n",
       "provincia         75.0    NaN                      NaN  NaN        NaT   \n",
       "ciudad            75.0    NaN                      NaN  NaN        NaT   \n",
       "sector              75      6                   UDOM05   54        NaT   \n",
       "nacionalidad       0.0    NaN                      NaN  NaN        NaT   \n",
       "fecha_matricula     75     37      2023-07-22 00:00:00    9 2021-02-09   \n",
       "estado              75      3                 INSMAT05   52        NaT   \n",
       "nombre_curso        75      1  Electricidad Automotriz   75        NaT   \n",
       "\n",
       "                       last        mean        std   min    25%    50%    75%  \\\n",
       "nombres                 NaT         NaN        NaN   NaN    NaN    NaN    NaN   \n",
       "apellidos               NaT         NaN        NaN   NaN    NaN    NaN    NaN   \n",
       "estudios                NaT         NaN        NaN   NaN    NaN    NaN    NaN   \n",
       "ocupación               NaT         NaN        NaN   NaN    NaN    NaN    NaN   \n",
       "dirtrabajo              NaT         NaN        NaN   NaN    NaN    NaN    NaN   \n",
       "ingresos                NaT         NaN        NaN   NaN    NaN    NaN    NaN   \n",
       "fecha_nacimiento        NaT         NaN        NaN   NaN    NaN    NaN    NaN   \n",
       "medio                   NaT         NaN        NaN   NaN    NaN    NaN    NaN   \n",
       "domicilio               NaT         NaN        NaN   NaN    NaN    NaN    NaN   \n",
       "provincia               NaT       33.24    2.95388  20.0   34.0   34.0   34.0   \n",
       "ciudad                  NaT  220.626667  32.144847  77.0  229.0  229.0  229.0   \n",
       "sector                  NaT         NaN        NaN   NaN    NaN    NaN    NaN   \n",
       "nacionalidad            NaT         NaN        NaN   NaN    NaN    NaN    NaN   \n",
       "fecha_matricula  2023-07-22         NaN        NaN   NaN    NaN    NaN    NaN   \n",
       "estado                  NaT         NaN        NaN   NaN    NaN    NaN    NaN   \n",
       "nombre_curso            NaT         NaN        NaN   NaN    NaN    NaN    NaN   \n",
       "\n",
       "                    max  \n",
       "nombres             NaN  \n",
       "apellidos           NaN  \n",
       "estudios            NaN  \n",
       "ocupación           NaN  \n",
       "dirtrabajo          NaN  \n",
       "ingresos            NaN  \n",
       "fecha_nacimiento    NaN  \n",
       "medio               NaN  \n",
       "domicilio           NaN  \n",
       "provincia          34.0  \n",
       "ciudad            229.0  \n",
       "sector              NaN  \n",
       "nacionalidad        NaN  \n",
       "fecha_matricula     NaN  \n",
       "estado              NaN  \n",
       "nombre_curso        NaN  "
      ]
     },
     "execution_count": 10,
     "metadata": {},
     "output_type": "execute_result"
    }
   ],
   "source": [
    "df.describe(include='all').T"
   ]
  },
  {
   "cell_type": "code",
   "execution_count": 11,
   "id": "eda04b40",
   "metadata": {},
   "outputs": [
    {
     "data": {
      "text/plain": [
       "nombres              0\n",
       "apellidos            0\n",
       "estudios             0\n",
       "ocupación            0\n",
       "dirtrabajo           1\n",
       "ingresos            26\n",
       "fecha_nacimiento     0\n",
       "medio                0\n",
       "domicilio            0\n",
       "provincia            0\n",
       "ciudad               0\n",
       "sector               0\n",
       "nacionalidad        75\n",
       "fecha_matricula      0\n",
       "estado               0\n",
       "nombre_curso         0\n",
       "dtype: int64"
      ]
     },
     "execution_count": 11,
     "metadata": {},
     "output_type": "execute_result"
    }
   ],
   "source": [
    "df.isna().sum()"
   ]
  },
  {
   "cell_type": "markdown",
   "id": "57b74144",
   "metadata": {},
   "source": [
    "**Studies**"
   ]
  },
  {
   "cell_type": "code",
   "execution_count": 12,
   "id": "d4cb37f8",
   "metadata": {},
   "outputs": [],
   "source": [
    "const_uni=100/7"
   ]
  },
  {
   "cell_type": "code",
   "execution_count": 13,
   "id": "522b9b6b",
   "metadata": {},
   "outputs": [
    {
     "data": {
      "text/plain": [
       "28.571429    44\n",
       "71.428571    19\n",
       "14.285714     4\n",
       "85.714286     4\n",
       "42.857143     4\n",
       "Name: estudios, dtype: int64"
      ]
     },
     "execution_count": 13,
     "metadata": {},
     "output_type": "execute_result"
    }
   ],
   "source": [
    "def_studies=['NIVEL01','NIVEL02','NIVEL03','NIVEL04','NIVEL05','NIVEL06','NIVEL07','NIVEL08']\n",
    "#new_nstudies=['SinEstudios', 'Primaria', 'Secundaria', 'Universidad', 'Maestria', \n",
    "#            'Doctorado', 'Tecnico', 'Tecnologia']\n",
    "new_nstudies=[4, const_uni*1, const_uni*2, const_uni*5, const_uni*6, \n",
    "              const_uni*7, const_uni*3, const_uni*4]\n",
    "\n",
    "df['estudios'].replace(def_studies,new_nstudies,inplace=True)\n",
    "df['estudios'].value_counts(dropna=False)"
   ]
  },
  {
   "cell_type": "markdown",
   "id": "ba49ebbf",
   "metadata": {},
   "source": [
    "##### df['estudios'].fillna(df['estudios'].mode()[0], inplace=True) #replacing NaN with mode"
   ]
  },
  {
   "cell_type": "markdown",
   "id": "3d419289",
   "metadata": {},
   "source": [
    "**Citizenship**"
   ]
  },
  {
   "cell_type": "code",
   "execution_count": 14,
   "id": "98f79195",
   "metadata": {},
   "outputs": [],
   "source": [
    "df['nacionalidad']='Ecuatoriano'"
   ]
  },
  {
   "cell_type": "markdown",
   "id": "bdb72352",
   "metadata": {},
   "source": [
    "**Medium of information**"
   ]
  },
  {
   "cell_type": "code",
   "execution_count": 15,
   "id": "b0d03b72",
   "metadata": {
    "scrolled": true
   },
   "outputs": [
    {
     "data": {
      "text/plain": [
       "Facebook            44\n",
       "Recomendacion       21\n",
       "PaginaWeb            8\n",
       "CursoEmpresarial     1\n",
       "Whatsapp             1\n",
       "Name: medio, dtype: int64"
      ]
     },
     "execution_count": 15,
     "metadata": {},
     "output_type": "execute_result"
    }
   ],
   "source": [
    "name_med=['CursoEmpresarial', 'Facebook', 'PaginaWeb', 'Radio', 'Recomendacion','Whatsapp','Instagram']\n",
    "med_cod=['MED01','MED02','MED03','MED04','MED05','MED06','MED07']\n",
    "df['medio'].replace(med_cod,name_med,inplace=True)\n",
    "df['medio'].value_counts(dropna=False)"
   ]
  },
  {
   "cell_type": "code",
   "execution_count": 16,
   "id": "c5d74fc1",
   "metadata": {
    "scrolled": true
   },
   "outputs": [
    {
     "data": {
      "text/plain": [
       "0"
      ]
     },
     "execution_count": 16,
     "metadata": {},
     "output_type": "execute_result"
    }
   ],
   "source": [
    "df['medio'].isna().sum()"
   ]
  },
  {
   "cell_type": "code",
   "execution_count": 17,
   "id": "c3624c66",
   "metadata": {},
   "outputs": [],
   "source": [
    "df['medio'].fillna(df['medio'].mode()[0], inplace=True) #replacing NaN with mode"
   ]
  },
  {
   "cell_type": "code",
   "execution_count": 18,
   "id": "e702d355",
   "metadata": {},
   "outputs": [
    {
     "data": {
      "text/plain": [
       "Facebook            44\n",
       "Recomendacion       21\n",
       "PaginaWeb            8\n",
       "CursoEmpresarial     1\n",
       "Whatsapp             1\n",
       "Name: medio, dtype: int64"
      ]
     },
     "execution_count": 18,
     "metadata": {},
     "output_type": "execute_result"
    }
   ],
   "source": [
    "df['medio'].value_counts(dropna=False)"
   ]
  },
  {
   "cell_type": "markdown",
   "id": "89af6c95",
   "metadata": {},
   "source": [
    "**Occupation Level**"
   ]
  },
  {
   "cell_type": "code",
   "execution_count": 19,
   "id": "55e8d9e9",
   "metadata": {},
   "outputs": [
    {
     "data": {
      "text/plain": [
       "10    38\n",
       "1     22\n",
       "30     9\n",
       "20     6\n",
       "Name: ocupación, dtype: int64"
      ]
     },
     "execution_count": 19,
     "metadata": {},
     "output_type": "execute_result"
    }
   ],
   "source": [
    "cod_job=[10,20,30,1]\n",
    "job_cod=['CARG01','CARG02','CARG03','CARG04']\n",
    "\n",
    "df['ocupación'].replace(job_cod,cod_job,inplace=True)\n",
    "df['ocupación'].value_counts(dropna=False)"
   ]
  },
  {
   "cell_type": "code",
   "execution_count": 20,
   "id": "d0f8ebcc",
   "metadata": {},
   "outputs": [],
   "source": [
    "df['ocupación'].fillna(df['ocupación'].mode()[0], inplace=True) #replacing NaN with mode"
   ]
  },
  {
   "cell_type": "markdown",
   "id": "01396957",
   "metadata": {},
   "source": [
    "**Monthly Incomes**"
   ]
  },
  {
   "cell_type": "code",
   "execution_count": 21,
   "id": "cbc0200a",
   "metadata": {},
   "outputs": [
    {
     "data": {
      "text/plain": [
       "Entre100y420     29\n",
       "NaN              26\n",
       "Entre421y800     17\n",
       "Entre801y1500     3\n",
       "Name: ingresos, dtype: int64"
      ]
     },
     "execution_count": 21,
     "metadata": {},
     "output_type": "execute_result"
    }
   ],
   "source": [
    "range_wages=['Entre100y420', 'Entre421y800', 'Entre801y1500', 'Mayor a 1500']\n",
    "wages_cod=['INGR01','INGR02','INGR03','INGR04']\n",
    "wages_av=[np.mean([100,420]),np.mean([421,800]),np.mean([801,1500]),2000]\n",
    "df['ingresos'].replace(wages_cod,range_wages,inplace=True)\n",
    "df['ingresos'].value_counts(dropna=False)"
   ]
  },
  {
   "cell_type": "code",
   "execution_count": 22,
   "id": "ccb2cef6",
   "metadata": {},
   "outputs": [],
   "source": [
    "df['ingresos'].fillna(df['ingresos'].mode()[0], inplace=True) #replacing NaN with mode"
   ]
  },
  {
   "cell_type": "code",
   "execution_count": 23,
   "id": "315552a7",
   "metadata": {},
   "outputs": [],
   "source": [
    "df['ingresos'].replace({'Entre100y420':np.mean([100,420]),\n",
    "                        'Entre421y800':np.mean([421,800]), \n",
    "                        'Entre801y1500':np.mean([801,1500]), \n",
    "                        'Mayor a 1500':2000},inplace=True)"
   ]
  },
  {
   "cell_type": "markdown",
   "id": "e8ec1857",
   "metadata": {},
   "source": [
    "**Followed Last Course**"
   ]
  },
  {
   "cell_type": "code",
   "execution_count": 24,
   "id": "cad07cf8",
   "metadata": {},
   "outputs": [
    {
     "data": {
      "text/plain": [
       "Index(['nombres', 'apellidos', 'estudios', 'ocupación', 'dirtrabajo',\n",
       "       'ingresos', 'fecha_nacimiento', 'medio', 'domicilio', 'provincia',\n",
       "       'ciudad', 'sector', 'nacionalidad', 'fecha_matricula', 'estado',\n",
       "       'nombre_curso'],\n",
       "      dtype='object')"
      ]
     },
     "execution_count": 24,
     "metadata": {},
     "output_type": "execute_result"
    }
   ],
   "source": [
    "df.columns"
   ]
  },
  {
   "cell_type": "code",
   "execution_count": 25,
   "id": "049ce9bd",
   "metadata": {},
   "outputs": [],
   "source": [
    "#df.ultimocurso.value_counts(dropna=False)"
   ]
  },
  {
   "cell_type": "markdown",
   "id": "6107b07e",
   "metadata": {},
   "source": [
    "**Sector**"
   ]
  },
  {
   "cell_type": "code",
   "execution_count": 26,
   "id": "468ec1da",
   "metadata": {},
   "outputs": [
    {
     "data": {
      "text/plain": [
       "10    54\n",
       "25     9\n",
       "50     6\n",
       "40     5\n",
       "30     1\n",
       "Name: sector, dtype: int64"
      ]
     },
     "execution_count": 26,
     "metadata": {},
     "output_type": "execute_result"
    }
   ],
   "source": [
    "#range_wages=['NORTE', 'CENTRO-NORTE', 'CENTRO-SUR', 'CENTRO','SUR','PERIFERIA']\n",
    "distants=[40, 30, 25, 25, 10, 50]\n",
    "wages_cod=['UDOM01','UDOM02','UDOM03','UDOM04','UDOM05','UDOM06']\n",
    "df['sector'].replace(wages_cod,distants,inplace=True)\n",
    "df['sector'].value_counts(dropna=False)"
   ]
  },
  {
   "cell_type": "markdown",
   "id": "0beb32cf",
   "metadata": {},
   "source": [
    "**Enrolled State**"
   ]
  },
  {
   "cell_type": "code",
   "execution_count": 27,
   "id": "88959f18",
   "metadata": {},
   "outputs": [
    {
     "data": {
      "text/plain": [
       "Culminado      52\n",
       "Desertado      15\n",
       "Matriculado     8\n",
       "Name: estado, dtype: int64"
      ]
     },
     "execution_count": 27,
     "metadata": {},
     "output_type": "execute_result"
    }
   ],
   "source": [
    "range_wages=['Inscrito', 'Matriculado', 'Desertado', 'Culminado']\n",
    "wages_cod=['INSMAT01','INSMAT02','INSMAT03','INSMAT05']\n",
    "df['estado'].replace(wages_cod,range_wages,inplace=True)\n",
    "df['estado'].value_counts(dropna=False)"
   ]
  },
  {
   "cell_type": "code",
   "execution_count": 28,
   "id": "c587c084",
   "metadata": {
    "scrolled": true
   },
   "outputs": [
    {
     "name": "stdout",
     "output_type": "stream",
     "text": [
      "<class 'pandas.core.frame.DataFrame'>\n",
      "Int64Index: 75 entries, 177 to 251\n",
      "Data columns (total 16 columns):\n",
      " #   Column            Non-Null Count  Dtype         \n",
      "---  ------            --------------  -----         \n",
      " 0   nombres           75 non-null     object        \n",
      " 1   apellidos         75 non-null     object        \n",
      " 2   estudios          75 non-null     float64       \n",
      " 3   ocupación         75 non-null     int64         \n",
      " 4   dirtrabajo        74 non-null     object        \n",
      " 5   ingresos          75 non-null     float64       \n",
      " 6   fecha_nacimiento  75 non-null     object        \n",
      " 7   medio             75 non-null     object        \n",
      " 8   domicilio         75 non-null     object        \n",
      " 9   provincia         75 non-null     int64         \n",
      " 10  ciudad            75 non-null     int64         \n",
      " 11  sector            75 non-null     int64         \n",
      " 12  nacionalidad      75 non-null     object        \n",
      " 13  fecha_matricula   75 non-null     datetime64[ns]\n",
      " 14  estado            75 non-null     object        \n",
      " 15  nombre_curso      75 non-null     object        \n",
      "dtypes: datetime64[ns](1), float64(2), int64(4), object(9)\n",
      "memory usage: 10.0+ KB\n"
     ]
    }
   ],
   "source": [
    "df.info()"
   ]
  },
  {
   "cell_type": "code",
   "execution_count": 29,
   "id": "e5abb9ef",
   "metadata": {},
   "outputs": [
    {
     "data": {
      "text/html": [
       "<div>\n",
       "<style scoped>\n",
       "    .dataframe tbody tr th:only-of-type {\n",
       "        vertical-align: middle;\n",
       "    }\n",
       "\n",
       "    .dataframe tbody tr th {\n",
       "        vertical-align: top;\n",
       "    }\n",
       "\n",
       "    .dataframe thead th {\n",
       "        text-align: right;\n",
       "    }\n",
       "</style>\n",
       "<table border=\"1\" class=\"dataframe\">\n",
       "  <thead>\n",
       "    <tr style=\"text-align: right;\">\n",
       "      <th></th>\n",
       "      <th>nombres</th>\n",
       "      <th>apellidos</th>\n",
       "      <th>estudios</th>\n",
       "      <th>ocupación</th>\n",
       "      <th>dirtrabajo</th>\n",
       "      <th>ingresos</th>\n",
       "      <th>fecha_nacimiento</th>\n",
       "      <th>medio</th>\n",
       "      <th>domicilio</th>\n",
       "      <th>provincia</th>\n",
       "      <th>ciudad</th>\n",
       "      <th>sector</th>\n",
       "      <th>nacionalidad</th>\n",
       "      <th>fecha_matricula</th>\n",
       "      <th>estado</th>\n",
       "      <th>nombre_curso</th>\n",
       "    </tr>\n",
       "  </thead>\n",
       "  <tbody>\n",
       "    <tr>\n",
       "      <th>177</th>\n",
       "      <td>Carlos Hugo</td>\n",
       "      <td>Chiluisa Achi</td>\n",
       "      <td>28.571429</td>\n",
       "      <td>10</td>\n",
       "      <td>Av.Mariscal Sucre y taisha</td>\n",
       "      <td>260.0</td>\n",
       "      <td>1972-01-09</td>\n",
       "      <td>Facebook</td>\n",
       "      <td>Santa bárbara</td>\n",
       "      <td>34</td>\n",
       "      <td>229</td>\n",
       "      <td>10</td>\n",
       "      <td>Ecuatoriano</td>\n",
       "      <td>2021-02-09</td>\n",
       "      <td>Culminado</td>\n",
       "      <td>Electricidad Automotriz</td>\n",
       "    </tr>\n",
       "    <tr>\n",
       "      <th>178</th>\n",
       "      <td>Henry Paul</td>\n",
       "      <td>Molina Alvarez</td>\n",
       "      <td>71.428571</td>\n",
       "      <td>10</td>\n",
       "      <td>Latacunga</td>\n",
       "      <td>260.0</td>\n",
       "      <td>1992-09-08</td>\n",
       "      <td>Facebook</td>\n",
       "      <td>Latacunga</td>\n",
       "      <td>34</td>\n",
       "      <td>229</td>\n",
       "      <td>10</td>\n",
       "      <td>Ecuatoriano</td>\n",
       "      <td>2021-02-09</td>\n",
       "      <td>Culminado</td>\n",
       "      <td>Electricidad Automotriz</td>\n",
       "    </tr>\n",
       "    <tr>\n",
       "      <th>179</th>\n",
       "      <td>Edwin Hernan</td>\n",
       "      <td>Garzon Paredes</td>\n",
       "      <td>28.571429</td>\n",
       "      <td>10</td>\n",
       "      <td>El valle  sangolqqui \\n</td>\n",
       "      <td>260.0</td>\n",
       "      <td>1971-08-19</td>\n",
       "      <td>Facebook</td>\n",
       "      <td>La Santiago</td>\n",
       "      <td>34</td>\n",
       "      <td>229</td>\n",
       "      <td>10</td>\n",
       "      <td>Ecuatoriano</td>\n",
       "      <td>2021-02-26</td>\n",
       "      <td>Culminado</td>\n",
       "      <td>Electricidad Automotriz</td>\n",
       "    </tr>\n",
       "    <tr>\n",
       "      <th>180</th>\n",
       "      <td>Franklin</td>\n",
       "      <td>Gualoto</td>\n",
       "      <td>28.571429</td>\n",
       "      <td>10</td>\n",
       "      <td>NaN</td>\n",
       "      <td>260.0</td>\n",
       "      <td>2002-11-29</td>\n",
       "      <td>Facebook</td>\n",
       "      <td>no tiene</td>\n",
       "      <td>34</td>\n",
       "      <td>229</td>\n",
       "      <td>10</td>\n",
       "      <td>Ecuatoriano</td>\n",
       "      <td>2021-02-26</td>\n",
       "      <td>Culminado</td>\n",
       "      <td>Electricidad Automotriz</td>\n",
       "    </tr>\n",
       "    <tr>\n",
       "      <th>181</th>\n",
       "      <td>Jorge Humberto</td>\n",
       "      <td>Suarez Mantilla</td>\n",
       "      <td>28.571429</td>\n",
       "      <td>10</td>\n",
       "      <td>Interoceánica y Simón Bolívar</td>\n",
       "      <td>260.0</td>\n",
       "      <td>1967-04-13</td>\n",
       "      <td>Recomendacion</td>\n",
       "      <td>José de Inés,  obrero independiente</td>\n",
       "      <td>34</td>\n",
       "      <td>229</td>\n",
       "      <td>10</td>\n",
       "      <td>Ecuatoriano</td>\n",
       "      <td>2021-06-03</td>\n",
       "      <td>Culminado</td>\n",
       "      <td>Electricidad Automotriz</td>\n",
       "    </tr>\n",
       "  </tbody>\n",
       "</table>\n",
       "</div>"
      ],
      "text/plain": [
       "             nombres         apellidos   estudios  ocupación  \\\n",
       "177      Carlos Hugo     Chiluisa Achi  28.571429         10   \n",
       "178       Henry Paul    Molina Alvarez  71.428571         10   \n",
       "179    Edwin Hernan     Garzon Paredes  28.571429         10   \n",
       "180         Franklin           Gualoto  28.571429         10   \n",
       "181  Jorge Humberto   Suarez Mantilla   28.571429         10   \n",
       "\n",
       "                         dirtrabajo  ingresos fecha_nacimiento          medio  \\\n",
       "177      Av.Mariscal Sucre y taisha     260.0       1972-01-09       Facebook   \n",
       "178                       Latacunga     260.0       1992-09-08       Facebook   \n",
       "179         El valle  sangolqqui \\n     260.0       1971-08-19       Facebook   \n",
       "180                             NaN     260.0       2002-11-29       Facebook   \n",
       "181  Interoceánica y Simón Bolívar      260.0       1967-04-13  Recomendacion   \n",
       "\n",
       "                                domicilio  provincia  ciudad  sector  \\\n",
       "177                        Santa bárbara          34     229      10   \n",
       "178                             Latacunga         34     229      10   \n",
       "179                          La Santiago          34     229      10   \n",
       "180                              no tiene         34     229      10   \n",
       "181  José de Inés,  obrero independiente          34     229      10   \n",
       "\n",
       "    nacionalidad fecha_matricula     estado             nombre_curso  \n",
       "177  Ecuatoriano      2021-02-09  Culminado  Electricidad Automotriz  \n",
       "178  Ecuatoriano      2021-02-09  Culminado  Electricidad Automotriz  \n",
       "179  Ecuatoriano      2021-02-26  Culminado  Electricidad Automotriz  \n",
       "180  Ecuatoriano      2021-02-26  Culminado  Electricidad Automotriz  \n",
       "181  Ecuatoriano      2021-06-03  Culminado  Electricidad Automotriz  "
      ]
     },
     "execution_count": 29,
     "metadata": {},
     "output_type": "execute_result"
    }
   ],
   "source": [
    "df.head()"
   ]
  },
  {
   "cell_type": "markdown",
   "id": "edab4b72",
   "metadata": {},
   "source": [
    "**Province**"
   ]
  },
  {
   "cell_type": "code",
   "execution_count": 30,
   "id": "6a7ab6a7",
   "metadata": {},
   "outputs": [
    {
     "data": {
      "text/plain": [
       "34    70\n",
       "26     2\n",
       "20     2\n",
       "21     1\n",
       "Name: provincia, dtype: int64"
      ]
     },
     "execution_count": 30,
     "metadata": {},
     "output_type": "execute_result"
    }
   ],
   "source": [
    "df['provincia'].value_counts()"
   ]
  },
  {
   "cell_type": "code",
   "execution_count": 31,
   "id": "ca3b056c",
   "metadata": {},
   "outputs": [
    {
     "data": {
      "text/plain": [
       "Pichincha     70\n",
       "Imbabura       2\n",
       "Chimborazo     2\n",
       "Cotopaxi       1\n",
       "Name: provincia, dtype: int64"
      ]
     },
     "execution_count": 31,
     "metadata": {},
     "output_type": "execute_result"
    }
   ],
   "source": [
    "def_prov=df['provincia'].value_counts().index.tolist()\n",
    "new_prov=['Pichincha', 'Imbabura','Chimborazo','Cotopaxi']\n",
    "df['provincia'].replace(def_prov,new_prov,inplace=True)\n",
    "df['provincia'].value_counts(dropna=False)"
   ]
  },
  {
   "cell_type": "markdown",
   "id": "9e5ddd2e",
   "metadata": {},
   "source": [
    "**City**"
   ]
  },
  {
   "cell_type": "code",
   "execution_count": 32,
   "id": "3731b907",
   "metadata": {},
   "outputs": [
    {
     "data": {
      "text/plain": [
       "229    68\n",
       "77      2\n",
       "223     1\n",
       "142     1\n",
       "228     1\n",
       "141     1\n",
       "87      1\n",
       "Name: ciudad, dtype: int64"
      ]
     },
     "execution_count": 32,
     "metadata": {},
     "output_type": "execute_result"
    }
   ],
   "source": [
    "df['ciudad'].value_counts()"
   ]
  },
  {
   "cell_type": "code",
   "execution_count": 33,
   "id": "4fd68f2a",
   "metadata": {},
   "outputs": [
    {
     "data": {
      "text/plain": [
       "QUITO           68\n",
       "RIOBAMBA         2\n",
       "RUMINAHUI        1\n",
       "ANTONIO ANTE     1\n",
       "MEJIA            1\n",
       "IBARRA           1\n",
       "LATACUNGA        1\n",
       "Name: ciudad, dtype: int64"
      ]
     },
     "execution_count": 33,
     "metadata": {},
     "output_type": "execute_result"
    }
   ],
   "source": [
    "def_ciud=df['ciudad'].value_counts().index.tolist()\n",
    "new_ciud=['QUITO','RIOBAMBA','RUMINAHUI','ANTONIO ANTE','MEJIA','IBARRA','LATACUNGA']\n",
    "\n",
    "df['ciudad'].replace(def_ciud,new_ciud,inplace=True)\n",
    "df['ciudad'].value_counts(dropna=False)"
   ]
  },
  {
   "cell_type": "code",
   "execution_count": 34,
   "id": "f00db214",
   "metadata": {},
   "outputs": [
    {
     "name": "stdout",
     "output_type": "stream",
     "text": [
      "<class 'pandas.core.frame.DataFrame'>\n",
      "Int64Index: 75 entries, 177 to 251\n",
      "Data columns (total 16 columns):\n",
      " #   Column            Non-Null Count  Dtype         \n",
      "---  ------            --------------  -----         \n",
      " 0   nombres           75 non-null     object        \n",
      " 1   apellidos         75 non-null     object        \n",
      " 2   estudios          75 non-null     float64       \n",
      " 3   ocupación         75 non-null     int64         \n",
      " 4   dirtrabajo        74 non-null     object        \n",
      " 5   ingresos          75 non-null     float64       \n",
      " 6   fecha_nacimiento  75 non-null     object        \n",
      " 7   medio             75 non-null     object        \n",
      " 8   domicilio         75 non-null     object        \n",
      " 9   provincia         75 non-null     object        \n",
      " 10  ciudad            75 non-null     object        \n",
      " 11  sector            75 non-null     int64         \n",
      " 12  nacionalidad      75 non-null     object        \n",
      " 13  fecha_matricula   75 non-null     datetime64[ns]\n",
      " 14  estado            75 non-null     object        \n",
      " 15  nombre_curso      75 non-null     object        \n",
      "dtypes: datetime64[ns](1), float64(2), int64(2), object(11)\n",
      "memory usage: 10.0+ KB\n"
     ]
    }
   ],
   "source": [
    "df.info()"
   ]
  },
  {
   "cell_type": "markdown",
   "id": "1a73fab5",
   "metadata": {},
   "source": [
    "**Birthday**"
   ]
  },
  {
   "cell_type": "code",
   "execution_count": 35,
   "id": "7c8d4d07",
   "metadata": {},
   "outputs": [
    {
     "data": {
      "text/plain": [
       "0"
      ]
     },
     "execution_count": 35,
     "metadata": {},
     "output_type": "execute_result"
    }
   ],
   "source": [
    "df['fecha_nacimiento'].isna().sum()"
   ]
  },
  {
   "cell_type": "code",
   "execution_count": 36,
   "id": "43e62dec",
   "metadata": {},
   "outputs": [],
   "source": [
    "modebirth=df['fecha_nacimiento'].value_counts().index.tolist()[1] #In value counts this is the second mode most registered"
   ]
  },
  {
   "cell_type": "code",
   "execution_count": 37,
   "id": "8566561d",
   "metadata": {},
   "outputs": [],
   "source": [
    "df['fecha_nacimiento'].fillna(modebirth, inplace=True) #replacing NaN with mode\n",
    "df['fecha_nacimiento'].replace('0002-11-29 BC',modebirth,inplace=True)"
   ]
  },
  {
   "cell_type": "code",
   "execution_count": 38,
   "id": "8c956243",
   "metadata": {},
   "outputs": [
    {
     "data": {
      "text/plain": [
       "1972-01-09    1\n",
       "1985-08-20    1\n",
       "1997-04-23    1\n",
       "1980-02-03    1\n",
       "2005-08-01    1\n",
       "             ..\n",
       "1977-03-12    1\n",
       "2004-03-24    1\n",
       "1969-06-29    1\n",
       "1999-11-23    1\n",
       "1994-03-05    1\n",
       "Name: fecha_nacimiento, Length: 75, dtype: int64"
      ]
     },
     "execution_count": 38,
     "metadata": {},
     "output_type": "execute_result"
    }
   ],
   "source": [
    "df['fecha_nacimiento'].value_counts()"
   ]
  },
  {
   "cell_type": "markdown",
   "id": "1c0684d8",
   "metadata": {},
   "source": [
    "**Address**"
   ]
  },
  {
   "cell_type": "code",
   "execution_count": 39,
   "id": "5fff399b",
   "metadata": {},
   "outputs": [],
   "source": [
    "modedir=df['domicilio'].mode()[0]\n",
    "df['domicilio'].fillna(modedir, inplace=True) #replacing NaN with mode"
   ]
  },
  {
   "cell_type": "code",
   "execution_count": 40,
   "id": "3b639526",
   "metadata": {},
   "outputs": [
    {
     "data": {
      "text/plain": [
       "Carapungo                                            4\n",
       "Chillogallo                                          4\n",
       "Calderon                                             3\n",
       "Guamani                                              3\n",
       "El Beaterio                                          2\n",
       "Riobamba                                             2\n",
       "Santa Barbara                                        2\n",
       "Quitumbe                                             2\n",
       "Latacunga                                            2\n",
       "Santa Rita                                           2\n",
       "Av. Gral Rumiñahui y Av. Atahualpa # 19 Sangolqui    1\n",
       "Lucha de los pobres S26-80                           1\n",
       "Ferroviaria                                          1\n",
       "Cdla Ibarra                                          1\n",
       "Santa Rosa 3era etapa de Chillogallo                 1\n",
       "Atuntaqui                                            1\n",
       "Conocoto                                             1\n",
       "La Ferroviaria                                       1\n",
       "Santa bárbara                                        1\n",
       "San Roque las canteras                               1\n",
       "calderon                                             1\n",
       "La magdalena                                         1\n",
       "Av Mariscal Sucre s44-126 ecuatoriana                1\n",
       "Puerres Colombia                                     1\n",
       "Mejia                                                1\n",
       "Tumbaco                                              1\n",
       "Alluriquin                                           1\n",
       "La mena                                              1\n",
       "Ibarra                                               1\n",
       "Ciudadela Ibarra                                     1\n",
       "Machachi                                             1\n",
       "El Dorado                                            1\n",
       "Piio 12                                              1\n",
       "La Forestal                                          1\n",
       "Puente dos Autopista                                 1\n",
       "La Santiago                                          1\n",
       "no tiene                                             1\n",
       "José de Inés,  obrero independiente                  1\n",
       "Chillogallo                                          1\n",
       "quito                                                1\n",
       "Cumbayá barrio Santa Rosa                            1\n",
       "Las cuadras                                          1\n",
       "Cesar Andrade y calle N63B                           1\n",
       "Fransisco de Orellana                                1\n",
       "guamani barrio la victoria                           1\n",
       "La joya                                              1\n",
       "Monjas alma Lojana                                   1\n",
       "El Quinche                                           1\n",
       "Calderón                                             1\n",
       "Eloy Alfaro                                          1\n",
       "San bartolo                                          1\n",
       "Chillogallo Santa Rosa II                            1\n",
       "Urbanización Armenia2                                1\n",
       "Quitumbe, Av Quitumbe Ñan y Amaru ñan                1\n",
       "Guamani                                              1\n",
       "Guamaní CH el roble 2                                1\n",
       "Puyo Pastaza                                         1\n",
       "alberto spencer y moro moro s27-87                   1\n",
       "Nuevos Horizontes sur                                1\n",
       "Name: domicilio, dtype: int64"
      ]
     },
     "execution_count": 40,
     "metadata": {},
     "output_type": "execute_result"
    }
   ],
   "source": [
    "df['domicilio'].value_counts(dropna=False)"
   ]
  },
  {
   "cell_type": "code",
   "execution_count": 41,
   "id": "ab8a2ad9",
   "metadata": {},
   "outputs": [
    {
     "name": "stdout",
     "output_type": "stream",
     "text": [
      "<class 'pandas.core.frame.DataFrame'>\n",
      "Int64Index: 75 entries, 177 to 251\n",
      "Data columns (total 16 columns):\n",
      " #   Column            Non-Null Count  Dtype         \n",
      "---  ------            --------------  -----         \n",
      " 0   nombres           75 non-null     object        \n",
      " 1   apellidos         75 non-null     object        \n",
      " 2   estudios          75 non-null     float64       \n",
      " 3   ocupación         75 non-null     int64         \n",
      " 4   dirtrabajo        74 non-null     object        \n",
      " 5   ingresos          75 non-null     float64       \n",
      " 6   fecha_nacimiento  75 non-null     object        \n",
      " 7   medio             75 non-null     object        \n",
      " 8   domicilio         75 non-null     object        \n",
      " 9   provincia         75 non-null     object        \n",
      " 10  ciudad            75 non-null     object        \n",
      " 11  sector            75 non-null     int64         \n",
      " 12  nacionalidad      75 non-null     object        \n",
      " 13  fecha_matricula   75 non-null     datetime64[ns]\n",
      " 14  estado            75 non-null     object        \n",
      " 15  nombre_curso      75 non-null     object        \n",
      "dtypes: datetime64[ns](1), float64(2), int64(2), object(11)\n",
      "memory usage: 10.0+ KB\n"
     ]
    }
   ],
   "source": [
    "df.info()"
   ]
  },
  {
   "cell_type": "code",
   "execution_count": 42,
   "id": "66b9eb32",
   "metadata": {},
   "outputs": [
    {
     "data": {
      "text/html": [
       "<div>\n",
       "<style scoped>\n",
       "    .dataframe tbody tr th:only-of-type {\n",
       "        vertical-align: middle;\n",
       "    }\n",
       "\n",
       "    .dataframe tbody tr th {\n",
       "        vertical-align: top;\n",
       "    }\n",
       "\n",
       "    .dataframe thead th {\n",
       "        text-align: right;\n",
       "    }\n",
       "</style>\n",
       "<table border=\"1\" class=\"dataframe\">\n",
       "  <thead>\n",
       "    <tr style=\"text-align: right;\">\n",
       "      <th></th>\n",
       "      <th>nombres</th>\n",
       "      <th>apellidos</th>\n",
       "      <th>estudios</th>\n",
       "      <th>ocupación</th>\n",
       "      <th>dirtrabajo</th>\n",
       "      <th>ingresos</th>\n",
       "      <th>fecha_nacimiento</th>\n",
       "      <th>medio</th>\n",
       "      <th>domicilio</th>\n",
       "      <th>provincia</th>\n",
       "      <th>ciudad</th>\n",
       "      <th>sector</th>\n",
       "      <th>nacionalidad</th>\n",
       "      <th>fecha_matricula</th>\n",
       "      <th>estado</th>\n",
       "      <th>nombre_curso</th>\n",
       "    </tr>\n",
       "  </thead>\n",
       "  <tbody>\n",
       "    <tr>\n",
       "      <th>177</th>\n",
       "      <td>Carlos Hugo</td>\n",
       "      <td>Chiluisa Achi</td>\n",
       "      <td>28.571429</td>\n",
       "      <td>10</td>\n",
       "      <td>Av.Mariscal Sucre y taisha</td>\n",
       "      <td>260.0</td>\n",
       "      <td>1972-01-09</td>\n",
       "      <td>Facebook</td>\n",
       "      <td>Santa bárbara</td>\n",
       "      <td>Pichincha</td>\n",
       "      <td>QUITO</td>\n",
       "      <td>10</td>\n",
       "      <td>Ecuatoriano</td>\n",
       "      <td>2021-02-09</td>\n",
       "      <td>Culminado</td>\n",
       "      <td>Electricidad Automotriz</td>\n",
       "    </tr>\n",
       "    <tr>\n",
       "      <th>178</th>\n",
       "      <td>Henry Paul</td>\n",
       "      <td>Molina Alvarez</td>\n",
       "      <td>71.428571</td>\n",
       "      <td>10</td>\n",
       "      <td>Latacunga</td>\n",
       "      <td>260.0</td>\n",
       "      <td>1992-09-08</td>\n",
       "      <td>Facebook</td>\n",
       "      <td>Latacunga</td>\n",
       "      <td>Pichincha</td>\n",
       "      <td>QUITO</td>\n",
       "      <td>10</td>\n",
       "      <td>Ecuatoriano</td>\n",
       "      <td>2021-02-09</td>\n",
       "      <td>Culminado</td>\n",
       "      <td>Electricidad Automotriz</td>\n",
       "    </tr>\n",
       "  </tbody>\n",
       "</table>\n",
       "</div>"
      ],
      "text/plain": [
       "         nombres       apellidos   estudios  ocupación  \\\n",
       "177  Carlos Hugo   Chiluisa Achi  28.571429         10   \n",
       "178   Henry Paul  Molina Alvarez  71.428571         10   \n",
       "\n",
       "                     dirtrabajo  ingresos fecha_nacimiento     medio  \\\n",
       "177  Av.Mariscal Sucre y taisha     260.0       1972-01-09  Facebook   \n",
       "178                   Latacunga     260.0       1992-09-08  Facebook   \n",
       "\n",
       "          domicilio  provincia ciudad  sector nacionalidad fecha_matricula  \\\n",
       "177  Santa bárbara   Pichincha  QUITO      10  Ecuatoriano      2021-02-09   \n",
       "178       Latacunga  Pichincha  QUITO      10  Ecuatoriano      2021-02-09   \n",
       "\n",
       "        estado             nombre_curso  \n",
       "177  Culminado  Electricidad Automotriz  \n",
       "178  Culminado  Electricidad Automotriz  "
      ]
     },
     "execution_count": 42,
     "metadata": {},
     "output_type": "execute_result"
    }
   ],
   "source": [
    "df.head(2)"
   ]
  },
  {
   "cell_type": "markdown",
   "id": "9d1c88c5",
   "metadata": {},
   "source": [
    "**Age**"
   ]
  },
  {
   "cell_type": "code",
   "execution_count": 43,
   "id": "7ba50d98",
   "metadata": {
    "scrolled": true
   },
   "outputs": [
    {
     "data": {
      "text/html": [
       "<div>\n",
       "<style scoped>\n",
       "    .dataframe tbody tr th:only-of-type {\n",
       "        vertical-align: middle;\n",
       "    }\n",
       "\n",
       "    .dataframe tbody tr th {\n",
       "        vertical-align: top;\n",
       "    }\n",
       "\n",
       "    .dataframe thead th {\n",
       "        text-align: right;\n",
       "    }\n",
       "</style>\n",
       "<table border=\"1\" class=\"dataframe\">\n",
       "  <thead>\n",
       "    <tr style=\"text-align: right;\">\n",
       "      <th></th>\n",
       "      <th>nombres</th>\n",
       "      <th>apellidos</th>\n",
       "      <th>estudios</th>\n",
       "      <th>ocupación</th>\n",
       "      <th>dirtrabajo</th>\n",
       "      <th>ingresos</th>\n",
       "      <th>fecha_nacimiento</th>\n",
       "      <th>medio</th>\n",
       "      <th>domicilio</th>\n",
       "      <th>provincia</th>\n",
       "      <th>ciudad</th>\n",
       "      <th>sector</th>\n",
       "      <th>nacionalidad</th>\n",
       "      <th>fecha_matricula</th>\n",
       "      <th>estado</th>\n",
       "      <th>nombre_curso</th>\n",
       "      <th>edad</th>\n",
       "    </tr>\n",
       "  </thead>\n",
       "  <tbody>\n",
       "    <tr>\n",
       "      <th>177</th>\n",
       "      <td>Carlos Hugo</td>\n",
       "      <td>Chiluisa Achi</td>\n",
       "      <td>28.571429</td>\n",
       "      <td>10</td>\n",
       "      <td>Av.Mariscal Sucre y taisha</td>\n",
       "      <td>260.0</td>\n",
       "      <td>1972-01-09</td>\n",
       "      <td>Facebook</td>\n",
       "      <td>Santa bárbara</td>\n",
       "      <td>Pichincha</td>\n",
       "      <td>QUITO</td>\n",
       "      <td>10</td>\n",
       "      <td>Ecuatoriano</td>\n",
       "      <td>2021-02-09</td>\n",
       "      <td>Culminado</td>\n",
       "      <td>Electricidad Automotriz</td>\n",
       "      <td>52</td>\n",
       "    </tr>\n",
       "    <tr>\n",
       "      <th>178</th>\n",
       "      <td>Henry Paul</td>\n",
       "      <td>Molina Alvarez</td>\n",
       "      <td>71.428571</td>\n",
       "      <td>10</td>\n",
       "      <td>Latacunga</td>\n",
       "      <td>260.0</td>\n",
       "      <td>1992-09-08</td>\n",
       "      <td>Facebook</td>\n",
       "      <td>Latacunga</td>\n",
       "      <td>Pichincha</td>\n",
       "      <td>QUITO</td>\n",
       "      <td>10</td>\n",
       "      <td>Ecuatoriano</td>\n",
       "      <td>2021-02-09</td>\n",
       "      <td>Culminado</td>\n",
       "      <td>Electricidad Automotriz</td>\n",
       "      <td>32</td>\n",
       "    </tr>\n",
       "    <tr>\n",
       "      <th>179</th>\n",
       "      <td>Edwin Hernan</td>\n",
       "      <td>Garzon Paredes</td>\n",
       "      <td>28.571429</td>\n",
       "      <td>10</td>\n",
       "      <td>El valle  sangolqqui \\n</td>\n",
       "      <td>260.0</td>\n",
       "      <td>1971-08-19</td>\n",
       "      <td>Facebook</td>\n",
       "      <td>La Santiago</td>\n",
       "      <td>Pichincha</td>\n",
       "      <td>QUITO</td>\n",
       "      <td>10</td>\n",
       "      <td>Ecuatoriano</td>\n",
       "      <td>2021-02-26</td>\n",
       "      <td>Culminado</td>\n",
       "      <td>Electricidad Automotriz</td>\n",
       "      <td>53</td>\n",
       "    </tr>\n",
       "  </tbody>\n",
       "</table>\n",
       "</div>"
      ],
      "text/plain": [
       "           nombres       apellidos   estudios  ocupación  \\\n",
       "177    Carlos Hugo   Chiluisa Achi  28.571429         10   \n",
       "178     Henry Paul  Molina Alvarez  71.428571         10   \n",
       "179  Edwin Hernan   Garzon Paredes  28.571429         10   \n",
       "\n",
       "                     dirtrabajo  ingresos fecha_nacimiento     medio  \\\n",
       "177  Av.Mariscal Sucre y taisha     260.0       1972-01-09  Facebook   \n",
       "178                   Latacunga     260.0       1992-09-08  Facebook   \n",
       "179     El valle  sangolqqui \\n     260.0       1971-08-19  Facebook   \n",
       "\n",
       "          domicilio  provincia ciudad  sector nacionalidad fecha_matricula  \\\n",
       "177  Santa bárbara   Pichincha  QUITO      10  Ecuatoriano      2021-02-09   \n",
       "178       Latacunga  Pichincha  QUITO      10  Ecuatoriano      2021-02-09   \n",
       "179    La Santiago   Pichincha  QUITO      10  Ecuatoriano      2021-02-26   \n",
       "\n",
       "        estado             nombre_curso  edad  \n",
       "177  Culminado  Electricidad Automotriz    52  \n",
       "178  Culminado  Electricidad Automotriz    32  \n",
       "179  Culminado  Electricidad Automotriz    53  "
      ]
     },
     "execution_count": 43,
     "metadata": {},
     "output_type": "execute_result"
    }
   ],
   "source": [
    "#import pandas as pd\n",
    "from datetime import date\n",
    "\n",
    "# convert the column of dates to datetime objects\n",
    "df['fecha_nacimiento'] = pd.to_datetime(df['fecha_nacimiento'])\n",
    "\n",
    "# calculate the age based on the current date\n",
    "today = date.today()\n",
    "today\n",
    "df['edad'] = (today.year - df['fecha_nacimiento'].dt.year)#-((today.month, today.day) < (df['fecha_nacimiento'].dt.month,df['fecha_nacimiento'].dt.day))\n",
    "\n",
    "# print the DataFrame with the calculated ages\n",
    "df.head(3)"
   ]
  },
  {
   "cell_type": "markdown",
   "id": "50987226",
   "metadata": {},
   "source": [
    "# 2. EDA: Exploratory Data Analysis"
   ]
  },
  {
   "cell_type": "code",
   "execution_count": 44,
   "id": "682203c7",
   "metadata": {},
   "outputs": [
    {
     "data": {
      "text/plain": [
       "count    75.000000\n",
       "mean     32.920000\n",
       "std      12.417033\n",
       "min       2.000000\n",
       "25%      24.000000\n",
       "50%      32.000000\n",
       "75%      41.000000\n",
       "max      57.000000\n",
       "Name: edad, dtype: float64"
      ]
     },
     "execution_count": 44,
     "metadata": {},
     "output_type": "execute_result"
    }
   ],
   "source": [
    "df['edad'].describe()"
   ]
  },
  {
   "cell_type": "code",
   "execution_count": 45,
   "id": "8b16b1f9",
   "metadata": {},
   "outputs": [
    {
     "data": {
      "image/png": "[encoded data removed]",
      "text/plain": [
       "<Figure size 432x288 with 1 Axes>"
      ]
     },
     "metadata": {
      "needs_background": "light"
     },
     "output_type": "display_data"
    }
   ],
   "source": [
    "plt.hist(df['edad']);"
   ]
  },
  {
   "cell_type": "code",
   "execution_count": 46,
   "id": "176defe3",
   "metadata": {},
   "outputs": [
    {
     "data": {
      "image/png": "[encoded data removed]",
      "text/plain": [
       "<Figure size 432x288 with 1 Axes>"
      ]
     },
     "metadata": {
      "needs_background": "light"
     },
     "output_type": "display_data"
    }
   ],
   "source": [
    "sns.countplot(x=df['ingresos']);"
   ]
  },
  {
   "cell_type": "code",
   "execution_count": 47,
   "id": "200403f0",
   "metadata": {},
   "outputs": [
    {
     "data": {
      "image/png": "[encoded data removed]",
      "text/plain": [
       "<Figure size 432x288 with 1 Axes>"
      ]
     },
     "metadata": {
      "needs_background": "light"
     },
     "output_type": "display_data"
    }
   ],
   "source": [
    "sns.countplot(x=df['ocupación']);"
   ]
  },
  {
   "cell_type": "code",
   "execution_count": 48,
   "id": "ae5cc000",
   "metadata": {},
   "outputs": [
    {
     "data": {
      "image/png": "[encoded data removed]",
      "text/plain": [
       "<Figure size 720x288 with 1 Axes>"
      ]
     },
     "metadata": {
      "needs_background": "light"
     },
     "output_type": "display_data"
    }
   ],
   "source": [
    "plt.figure(figsize=(10,4))\n",
    "sns.countplot(x=df['sector']);"
   ]
  },
  {
   "cell_type": "code",
   "execution_count": 49,
   "id": "e32315a3",
   "metadata": {},
   "outputs": [
    {
     "data": {
      "image/png": "[encoded data removed]",
      "text/plain": [
       "<Figure size 432x288 with 1 Axes>"
      ]
     },
     "metadata": {
      "needs_background": "light"
     },
     "output_type": "display_data"
    }
   ],
   "source": [
    "sns.countplot(x=df['provincia']);"
   ]
  },
  {
   "cell_type": "code",
   "execution_count": 50,
   "id": "685ea379",
   "metadata": {},
   "outputs": [
    {
     "data": {
      "image/png": "[encoded data removed]",
      "text/plain": [
       "<Figure size 432x288 with 1 Axes>"
      ]
     },
     "metadata": {
      "needs_background": "light"
     },
     "output_type": "display_data"
    }
   ],
   "source": [
    "sns.countplot(x=df['ciudad']);"
   ]
  },
  {
   "cell_type": "code",
   "execution_count": 51,
   "id": "3e7fe1c7",
   "metadata": {},
   "outputs": [
    {
     "data": {
      "image/png": "[encoded data removed]",
      "text/plain": [
       "<Figure size 432x288 with 1 Axes>"
      ]
     },
     "metadata": {
      "needs_background": "light"
     },
     "output_type": "display_data"
    }
   ],
   "source": [
    "sns.countplot(x=df['estudios']);"
   ]
  },
  {
   "cell_type": "code",
   "execution_count": 52,
   "id": "022dce6c",
   "metadata": {},
   "outputs": [
    {
     "data": {
      "text/html": [
       "<div>\n",
       "<style scoped>\n",
       "    .dataframe tbody tr th:only-of-type {\n",
       "        vertical-align: middle;\n",
       "    }\n",
       "\n",
       "    .dataframe tbody tr th {\n",
       "        vertical-align: top;\n",
       "    }\n",
       "\n",
       "    .dataframe thead th {\n",
       "        text-align: right;\n",
       "    }\n",
       "</style>\n",
       "<table border=\"1\" class=\"dataframe\">\n",
       "  <thead>\n",
       "    <tr style=\"text-align: right;\">\n",
       "      <th></th>\n",
       "      <th>nombres</th>\n",
       "      <th>apellidos</th>\n",
       "      <th>estudios</th>\n",
       "      <th>ocupación</th>\n",
       "      <th>dirtrabajo</th>\n",
       "      <th>ingresos</th>\n",
       "      <th>fecha_nacimiento</th>\n",
       "      <th>medio</th>\n",
       "      <th>domicilio</th>\n",
       "      <th>provincia</th>\n",
       "      <th>ciudad</th>\n",
       "      <th>sector</th>\n",
       "      <th>nacionalidad</th>\n",
       "      <th>fecha_matricula</th>\n",
       "      <th>estado</th>\n",
       "      <th>nombre_curso</th>\n",
       "      <th>edad</th>\n",
       "    </tr>\n",
       "  </thead>\n",
       "  <tbody>\n",
       "    <tr>\n",
       "      <th>220</th>\n",
       "      <td>Carlos Andres</td>\n",
       "      <td>Espinosa Jacome</td>\n",
       "      <td>71.428571</td>\n",
       "      <td>1</td>\n",
       "      <td>No trabajo</td>\n",
       "      <td>260.0</td>\n",
       "      <td>2000-01-27</td>\n",
       "      <td>Facebook</td>\n",
       "      <td>Atuntaqui</td>\n",
       "      <td>Imbabura</td>\n",
       "      <td>ANTONIO ANTE</td>\n",
       "      <td>25</td>\n",
       "      <td>Ecuatoriano</td>\n",
       "      <td>2023-01-29</td>\n",
       "      <td>Culminado</td>\n",
       "      <td>Electricidad Automotriz</td>\n",
       "      <td>24</td>\n",
       "    </tr>\n",
       "  </tbody>\n",
       "</table>\n",
       "</div>"
      ],
      "text/plain": [
       "           nombres        apellidos   estudios  ocupación  dirtrabajo  \\\n",
       "220  Carlos Andres  Espinosa Jacome  71.428571          1  No trabajo   \n",
       "\n",
       "     ingresos fecha_nacimiento     medio  domicilio provincia        ciudad  \\\n",
       "220     260.0       2000-01-27  Facebook  Atuntaqui  Imbabura  ANTONIO ANTE   \n",
       "\n",
       "     sector nacionalidad fecha_matricula     estado             nombre_curso  \\\n",
       "220      25  Ecuatoriano      2023-01-29  Culminado  Electricidad Automotriz   \n",
       "\n",
       "     edad  \n",
       "220    24  "
      ]
     },
     "execution_count": 52,
     "metadata": {},
     "output_type": "execute_result"
    }
   ],
   "source": [
    "df[df['ciudad']=='ANTONIO ANTE']"
   ]
  },
  {
   "cell_type": "code",
   "execution_count": 53,
   "id": "37da12ab",
   "metadata": {},
   "outputs": [
    {
     "data": {
      "text/html": [
       "<div>\n",
       "<style scoped>\n",
       "    .dataframe tbody tr th:only-of-type {\n",
       "        vertical-align: middle;\n",
       "    }\n",
       "\n",
       "    .dataframe tbody tr th {\n",
       "        vertical-align: top;\n",
       "    }\n",
       "\n",
       "    .dataframe thead th {\n",
       "        text-align: right;\n",
       "    }\n",
       "</style>\n",
       "<table border=\"1\" class=\"dataframe\">\n",
       "  <thead>\n",
       "    <tr style=\"text-align: right;\">\n",
       "      <th></th>\n",
       "      <th>nombres</th>\n",
       "      <th>apellidos</th>\n",
       "      <th>estudios</th>\n",
       "      <th>ocupación</th>\n",
       "      <th>dirtrabajo</th>\n",
       "      <th>ingresos</th>\n",
       "      <th>fecha_nacimiento</th>\n",
       "      <th>medio</th>\n",
       "      <th>domicilio</th>\n",
       "      <th>provincia</th>\n",
       "      <th>ciudad</th>\n",
       "      <th>sector</th>\n",
       "      <th>nacionalidad</th>\n",
       "      <th>fecha_matricula</th>\n",
       "      <th>estado</th>\n",
       "      <th>nombre_curso</th>\n",
       "      <th>edad</th>\n",
       "    </tr>\n",
       "  </thead>\n",
       "  <tbody>\n",
       "  </tbody>\n",
       "</table>\n",
       "</div>"
      ],
      "text/plain": [
       "Empty DataFrame\n",
       "Columns: [nombres, apellidos, estudios, ocupación, dirtrabajo, ingresos, fecha_nacimiento, medio, domicilio, provincia, ciudad, sector, nacionalidad, fecha_matricula, estado, nombre_curso, edad]\n",
       "Index: []"
      ]
     },
     "execution_count": 53,
     "metadata": {},
     "output_type": "execute_result"
    }
   ],
   "source": [
    "df[df['ciudad']=='RUMIÑAHUI']"
   ]
  },
  {
   "cell_type": "code",
   "execution_count": 54,
   "id": "6d35e412",
   "metadata": {},
   "outputs": [
    {
     "data": {
      "text/plain": [
       "(75, 17)"
      ]
     },
     "execution_count": 54,
     "metadata": {},
     "output_type": "execute_result"
    }
   ],
   "source": [
    "df.shape"
   ]
  },
  {
   "cell_type": "code",
   "execution_count": 55,
   "id": "f628b839",
   "metadata": {},
   "outputs": [],
   "source": [
    "df.drop([220],inplace=True)"
   ]
  },
  {
   "cell_type": "code",
   "execution_count": 56,
   "id": "48dea0d2",
   "metadata": {},
   "outputs": [
    {
     "data": {
      "text/plain": [
       "(74, 17)"
      ]
     },
     "execution_count": 56,
     "metadata": {},
     "output_type": "execute_result"
    }
   ],
   "source": [
    "df.shape"
   ]
  },
  {
   "cell_type": "markdown",
   "id": "db94016d",
   "metadata": {},
   "source": [
    "### Deleting labels to get the final labels for  modeling"
   ]
  },
  {
   "cell_type": "code",
   "execution_count": 57,
   "id": "81a0a0e2",
   "metadata": {},
   "outputs": [],
   "source": [
    "df2=df.copy()"
   ]
  },
  {
   "cell_type": "code",
   "execution_count": 58,
   "id": "7098c9d5",
   "metadata": {},
   "outputs": [
    {
     "data": {
      "text/html": [
       "<div>\n",
       "<style scoped>\n",
       "    .dataframe tbody tr th:only-of-type {\n",
       "        vertical-align: middle;\n",
       "    }\n",
       "\n",
       "    .dataframe tbody tr th {\n",
       "        vertical-align: top;\n",
       "    }\n",
       "\n",
       "    .dataframe thead th {\n",
       "        text-align: right;\n",
       "    }\n",
       "</style>\n",
       "<table border=\"1\" class=\"dataframe\">\n",
       "  <thead>\n",
       "    <tr style=\"text-align: right;\">\n",
       "      <th></th>\n",
       "      <th>nombres</th>\n",
       "      <th>apellidos</th>\n",
       "      <th>estudios</th>\n",
       "      <th>ocupación</th>\n",
       "      <th>dirtrabajo</th>\n",
       "      <th>ingresos</th>\n",
       "      <th>fecha_nacimiento</th>\n",
       "      <th>medio</th>\n",
       "      <th>domicilio</th>\n",
       "      <th>provincia</th>\n",
       "      <th>ciudad</th>\n",
       "      <th>sector</th>\n",
       "      <th>nacionalidad</th>\n",
       "      <th>fecha_matricula</th>\n",
       "      <th>estado</th>\n",
       "      <th>nombre_curso</th>\n",
       "      <th>edad</th>\n",
       "    </tr>\n",
       "  </thead>\n",
       "  <tbody>\n",
       "    <tr>\n",
       "      <th>177</th>\n",
       "      <td>Carlos Hugo</td>\n",
       "      <td>Chiluisa Achi</td>\n",
       "      <td>28.571429</td>\n",
       "      <td>10</td>\n",
       "      <td>Av.Mariscal Sucre y taisha</td>\n",
       "      <td>260.0</td>\n",
       "      <td>1972-01-09</td>\n",
       "      <td>Facebook</td>\n",
       "      <td>Santa bárbara</td>\n",
       "      <td>Pichincha</td>\n",
       "      <td>QUITO</td>\n",
       "      <td>10</td>\n",
       "      <td>Ecuatoriano</td>\n",
       "      <td>2021-02-09</td>\n",
       "      <td>Culminado</td>\n",
       "      <td>Electricidad Automotriz</td>\n",
       "      <td>52</td>\n",
       "    </tr>\n",
       "    <tr>\n",
       "      <th>178</th>\n",
       "      <td>Henry Paul</td>\n",
       "      <td>Molina Alvarez</td>\n",
       "      <td>71.428571</td>\n",
       "      <td>10</td>\n",
       "      <td>Latacunga</td>\n",
       "      <td>260.0</td>\n",
       "      <td>1992-09-08</td>\n",
       "      <td>Facebook</td>\n",
       "      <td>Latacunga</td>\n",
       "      <td>Pichincha</td>\n",
       "      <td>QUITO</td>\n",
       "      <td>10</td>\n",
       "      <td>Ecuatoriano</td>\n",
       "      <td>2021-02-09</td>\n",
       "      <td>Culminado</td>\n",
       "      <td>Electricidad Automotriz</td>\n",
       "      <td>32</td>\n",
       "    </tr>\n",
       "    <tr>\n",
       "      <th>179</th>\n",
       "      <td>Edwin Hernan</td>\n",
       "      <td>Garzon Paredes</td>\n",
       "      <td>28.571429</td>\n",
       "      <td>10</td>\n",
       "      <td>El valle  sangolqqui \\n</td>\n",
       "      <td>260.0</td>\n",
       "      <td>1971-08-19</td>\n",
       "      <td>Facebook</td>\n",
       "      <td>La Santiago</td>\n",
       "      <td>Pichincha</td>\n",
       "      <td>QUITO</td>\n",
       "      <td>10</td>\n",
       "      <td>Ecuatoriano</td>\n",
       "      <td>2021-02-26</td>\n",
       "      <td>Culminado</td>\n",
       "      <td>Electricidad Automotriz</td>\n",
       "      <td>53</td>\n",
       "    </tr>\n",
       "  </tbody>\n",
       "</table>\n",
       "</div>"
      ],
      "text/plain": [
       "           nombres       apellidos   estudios  ocupación  \\\n",
       "177    Carlos Hugo   Chiluisa Achi  28.571429         10   \n",
       "178     Henry Paul  Molina Alvarez  71.428571         10   \n",
       "179  Edwin Hernan   Garzon Paredes  28.571429         10   \n",
       "\n",
       "                     dirtrabajo  ingresos fecha_nacimiento     medio  \\\n",
       "177  Av.Mariscal Sucre y taisha     260.0       1972-01-09  Facebook   \n",
       "178                   Latacunga     260.0       1992-09-08  Facebook   \n",
       "179     El valle  sangolqqui \\n     260.0       1971-08-19  Facebook   \n",
       "\n",
       "          domicilio  provincia ciudad  sector nacionalidad fecha_matricula  \\\n",
       "177  Santa bárbara   Pichincha  QUITO      10  Ecuatoriano      2021-02-09   \n",
       "178       Latacunga  Pichincha  QUITO      10  Ecuatoriano      2021-02-09   \n",
       "179    La Santiago   Pichincha  QUITO      10  Ecuatoriano      2021-02-26   \n",
       "\n",
       "        estado             nombre_curso  edad  \n",
       "177  Culminado  Electricidad Automotriz    52  \n",
       "178  Culminado  Electricidad Automotriz    32  \n",
       "179  Culminado  Electricidad Automotriz    53  "
      ]
     },
     "execution_count": 58,
     "metadata": {},
     "output_type": "execute_result"
    }
   ],
   "source": [
    "df2.head(3)"
   ]
  },
  {
   "cell_type": "code",
   "execution_count": 59,
   "id": "a19835cc",
   "metadata": {},
   "outputs": [
    {
     "data": {
      "text/plain": [
       "(74, 17)"
      ]
     },
     "execution_count": 59,
     "metadata": {},
     "output_type": "execute_result"
    }
   ],
   "source": [
    "df2.shape"
   ]
  },
  {
   "cell_type": "code",
   "execution_count": 60,
   "id": "fdf88297",
   "metadata": {},
   "outputs": [],
   "source": [
    "df2.drop(labels=['nombres','apellidos','fecha_nacimiento','domicilio','nacionalidad',\n",
    "                'fecha_matricula','estado','dirtrabajo',\n",
    "                'provincia','ciudad','nombre_curso','medio'],axis=1,inplace=True)"
   ]
  },
  {
   "cell_type": "code",
   "execution_count": 61,
   "id": "40bc1b16",
   "metadata": {},
   "outputs": [
    {
     "data": {
      "text/html": [
       "<div>\n",
       "<style scoped>\n",
       "    .dataframe tbody tr th:only-of-type {\n",
       "        vertical-align: middle;\n",
       "    }\n",
       "\n",
       "    .dataframe tbody tr th {\n",
       "        vertical-align: top;\n",
       "    }\n",
       "\n",
       "    .dataframe thead th {\n",
       "        text-align: right;\n",
       "    }\n",
       "</style>\n",
       "<table border=\"1\" class=\"dataframe\">\n",
       "  <thead>\n",
       "    <tr style=\"text-align: right;\">\n",
       "      <th></th>\n",
       "      <th>estudios</th>\n",
       "      <th>ocupación</th>\n",
       "      <th>ingresos</th>\n",
       "      <th>sector</th>\n",
       "      <th>edad</th>\n",
       "    </tr>\n",
       "  </thead>\n",
       "  <tbody>\n",
       "    <tr>\n",
       "      <th>177</th>\n",
       "      <td>28.571429</td>\n",
       "      <td>10</td>\n",
       "      <td>260.0</td>\n",
       "      <td>10</td>\n",
       "      <td>52</td>\n",
       "    </tr>\n",
       "    <tr>\n",
       "      <th>178</th>\n",
       "      <td>71.428571</td>\n",
       "      <td>10</td>\n",
       "      <td>260.0</td>\n",
       "      <td>10</td>\n",
       "      <td>32</td>\n",
       "    </tr>\n",
       "    <tr>\n",
       "      <th>179</th>\n",
       "      <td>28.571429</td>\n",
       "      <td>10</td>\n",
       "      <td>260.0</td>\n",
       "      <td>10</td>\n",
       "      <td>53</td>\n",
       "    </tr>\n",
       "    <tr>\n",
       "      <th>180</th>\n",
       "      <td>28.571429</td>\n",
       "      <td>10</td>\n",
       "      <td>260.0</td>\n",
       "      <td>10</td>\n",
       "      <td>22</td>\n",
       "    </tr>\n",
       "    <tr>\n",
       "      <th>181</th>\n",
       "      <td>28.571429</td>\n",
       "      <td>10</td>\n",
       "      <td>260.0</td>\n",
       "      <td>10</td>\n",
       "      <td>57</td>\n",
       "    </tr>\n",
       "  </tbody>\n",
       "</table>\n",
       "</div>"
      ],
      "text/plain": [
       "      estudios  ocupación  ingresos  sector  edad\n",
       "177  28.571429         10     260.0      10    52\n",
       "178  71.428571         10     260.0      10    32\n",
       "179  28.571429         10     260.0      10    53\n",
       "180  28.571429         10     260.0      10    22\n",
       "181  28.571429         10     260.0      10    57"
      ]
     },
     "execution_count": 61,
     "metadata": {},
     "output_type": "execute_result"
    }
   ],
   "source": [
    "df2.head()"
   ]
  },
  {
   "cell_type": "code",
   "execution_count": 62,
   "id": "d6685ef3",
   "metadata": {},
   "outputs": [],
   "source": [
    "#df2.drop('cluster',axis=1, inplace=True)"
   ]
  },
  {
   "cell_type": "markdown",
   "id": "8a60b5c1",
   "metadata": {},
   "source": [
    "# 3. Building k-means model"
   ]
  },
  {
   "cell_type": "code",
   "execution_count": 63,
   "id": "0f1fb71a",
   "metadata": {},
   "outputs": [],
   "source": [
    "from sklearn.cluster import KMeans\n",
    "from sklearn.metrics import silhouette_score\n",
    "from sklearn.preprocessing import StandardScaler\n",
    "from yellowbrick.cluster import KElbowVisualizer, SilhouetteVisualizer\n",
    "\n",
    "# to compute distances\n",
    "from scipy.spatial.distance import cdist\n",
    "\n",
    "# To suppress the warnings\n",
    "import warnings\n",
    "warnings.filterwarnings(\"ignore\")"
   ]
  },
  {
   "cell_type": "code",
   "execution_count": 64,
   "id": "cc2c10d2",
   "metadata": {},
   "outputs": [],
   "source": [
    "categorical_columns=['estudios','ocupación','medio','sector']"
   ]
  },
  {
   "cell_type": "code",
   "execution_count": 65,
   "id": "c81ac9cc",
   "metadata": {},
   "outputs": [
    {
     "data": {
      "text/html": [
       "<div>\n",
       "<style scoped>\n",
       "    .dataframe tbody tr th:only-of-type {\n",
       "        vertical-align: middle;\n",
       "    }\n",
       "\n",
       "    .dataframe tbody tr th {\n",
       "        vertical-align: top;\n",
       "    }\n",
       "\n",
       "    .dataframe thead th {\n",
       "        text-align: right;\n",
       "    }\n",
       "</style>\n",
       "<table border=\"1\" class=\"dataframe\">\n",
       "  <thead>\n",
       "    <tr style=\"text-align: right;\">\n",
       "      <th></th>\n",
       "      <th>estudios</th>\n",
       "      <th>ocupación</th>\n",
       "      <th>ingresos</th>\n",
       "      <th>sector</th>\n",
       "      <th>edad</th>\n",
       "    </tr>\n",
       "  </thead>\n",
       "  <tbody>\n",
       "    <tr>\n",
       "      <th>177</th>\n",
       "      <td>28.571429</td>\n",
       "      <td>10</td>\n",
       "      <td>260.0</td>\n",
       "      <td>10</td>\n",
       "      <td>52</td>\n",
       "    </tr>\n",
       "    <tr>\n",
       "      <th>178</th>\n",
       "      <td>71.428571</td>\n",
       "      <td>10</td>\n",
       "      <td>260.0</td>\n",
       "      <td>10</td>\n",
       "      <td>32</td>\n",
       "    </tr>\n",
       "  </tbody>\n",
       "</table>\n",
       "</div>"
      ],
      "text/plain": [
       "      estudios  ocupación  ingresos  sector  edad\n",
       "177  28.571429         10     260.0      10    52\n",
       "178  71.428571         10     260.0      10    32"
      ]
     },
     "execution_count": 65,
     "metadata": {},
     "output_type": "execute_result"
    }
   ],
   "source": [
    "data_encoded=df2.copy()\n",
    "#data_encoded = pd.get_dummies(df2, columns=categorical_columns)\n",
    "data_encoded.head(2)                              "
   ]
  },
  {
   "cell_type": "code",
   "execution_count": 66,
   "id": "b8d426bc",
   "metadata": {
    "scrolled": true
   },
   "outputs": [],
   "source": [
    "# Apply feature scaling using StandardScaler\n",
    "scaler = StandardScaler()\n",
    "data_scaled = scaler.fit_transform(data_encoded)"
   ]
  },
  {
   "cell_type": "code",
   "execution_count": 67,
   "id": "417210ac",
   "metadata": {},
   "outputs": [
    {
     "name": "stdout",
     "output_type": "stream",
     "text": [
      "Number of Clusters: 1 \tAverage Distortion: 2.0945894617944254\n",
      "Number of Clusters: 2 \tAverage Distortion: 1.8379412828326214\n",
      "Number of Clusters: 3 \tAverage Distortion: 1.629344265722241\n",
      "Number of Clusters: 4 \tAverage Distortion: 1.479421938819918\n",
      "Number of Clusters: 5 \tAverage Distortion: 1.3294515064331789\n",
      "Number of Clusters: 6 \tAverage Distortion: 1.230758162786326\n",
      "Number of Clusters: 7 \tAverage Distortion: 1.1237297627123324\n",
      "Number of Clusters: 8 \tAverage Distortion: 1.0606652354716366\n",
      "Number of Clusters: 9 \tAverage Distortion: 1.02766760760652\n"
     ]
    },
    {
     "data": {
      "text/plain": [
       "Text(0.5, 1.0, 'Selecting k with the Elbow Method')"
      ]
     },
     "execution_count": 67,
     "metadata": {},
     "output_type": "execute_result"
    },
    {
     "data": {
      "image/png": "[encoded data removed]",
      "text/plain": [
       "<Figure size 720x360 with 1 Axes>"
      ]
     },
     "metadata": {},
     "output_type": "display_data"
    }
   ],
   "source": [
    "clusters = range(1, 10)\n",
    "meanDistortions = []\n",
    "\n",
    "for k in clusters:\n",
    "    model = KMeans(n_clusters=k) #we'll get different value of k\n",
    "    model.fit(data_scaled)\n",
    "    prediction = model.predict(data_scaled) #give you the label\n",
    "    distortion = (\n",
    "        sum(                              #calculating distances of each cluster and summing\n",
    "            np.min(cdist(data_scaled, model.cluster_centers_, \"euclidean\"), axis=1) #it's calculating distance\n",
    "                #min distance                             #out of any of this points from the cluster centroid, fig 11\n",
    "        )             #here I will the centroids and distances and the best is the short distance\n",
    "        / data_scaled.shape[0] #dividing by number of points\n",
    "    )\n",
    "\n",
    "    meanDistortions.append(distortion)\n",
    "\n",
    "    print(\"Number of Clusters:\", k, \"\\tAverage Distortion:\", distortion)\n",
    "\n",
    "plt.figure(figsize=(10, 5))\n",
    "plt.grid(True)\n",
    "plt.plot(clusters, meanDistortions, \"bx-\")\n",
    "plt.xlabel(\"k\")\n",
    "plt.ylabel(\"Average Distortion\")\n",
    "plt.title(\"Selecting k with the Elbow Method\", fontsize=20)"
   ]
  },
  {
   "cell_type": "code",
   "execution_count": 68,
   "id": "385a55b8",
   "metadata": {},
   "outputs": [
    {
     "data": {
      "image/png": "[encoded data removed]",
      "text/plain": [
       "<Figure size 576x396 with 2 Axes>"
      ]
     },
     "metadata": {},
     "output_type": "display_data"
    },
    {
     "data": {
      "text/plain": [
       "<AxesSubplot:title={'center':'Distortion Score Elbow for KMeans Clustering'}, xlabel='k', ylabel='distortion score'>"
      ]
     },
     "execution_count": 68,
     "metadata": {},
     "output_type": "execute_result"
    }
   ],
   "source": [
    "#k_means_df = subset_scaled_df.copy()\n",
    "model = KMeans(random_state=1)\n",
    "visualizer = KElbowVisualizer(model, k=(1,10), timings=True) #timings, time to fit\n",
    "visualizer.fit(data_scaled)\n",
    "visualizer.show()"
   ]
  },
  {
   "cell_type": "code",
   "execution_count": 69,
   "id": "088d26bd",
   "metadata": {},
   "outputs": [
    {
     "data": {
      "image/png": "[encoded data removed]",
      "text/plain": [
       "<Figure size 720x360 with 1 Axes>"
      ]
     },
     "metadata": {},
     "output_type": "display_data"
    }
   ],
   "source": [
    "min_clusters=2 \n",
    "max_clusters=9\n",
    "silhouette_scores = []\n",
    "\n",
    "for k in range(min_clusters, max_clusters + 1):\n",
    "    # Apply k-means clustering\n",
    "    kmeans = KMeans(n_clusters=k)\n",
    "    kmeans.fit(data_scaled)\n",
    "\n",
    "    # Get silhouette score\n",
    "    silhouette_scores.append(silhouette_score(data_scaled, kmeans.labels_))\n",
    "\n",
    "# Plot the silhouette scores\n",
    "plt.figure(figsize=(10, 5))\n",
    "plt.plot(range(min_clusters, max_clusters + 1), silhouette_scores, marker='o')\n",
    "plt.xlabel('Number of Clusters (k)')\n",
    "plt.ylabel('Silhouette Score')\n",
    "plt.title('Silhouette Score vs. Number of Clusters')\n",
    "plt.show()"
   ]
  },
  {
   "cell_type": "code",
   "execution_count": 70,
   "id": "871978df",
   "metadata": {},
   "outputs": [
    {
     "name": "stdout",
     "output_type": "stream",
     "text": [
      "cluster-k:  2\n"
     ]
    },
    {
     "data": {
      "image/png": "[encoded data removed]",
      "text/plain": [
       "<Figure size 576x396 with 1 Axes>"
      ]
     },
     "metadata": {},
     "output_type": "display_data"
    },
    {
     "name": "stdout",
     "output_type": "stream",
     "text": [
      "cluster-k:  3\n"
     ]
    },
    {
     "data": {
      "image/png": "[encoded data removed]",
      "text/plain": [
       "<Figure size 576x396 with 1 Axes>"
      ]
     },
     "metadata": {},
     "output_type": "display_data"
    },
    {
     "name": "stdout",
     "output_type": "stream",
     "text": [
      "cluster-k:  4\n"
     ]
    },
    {
     "data": {
      "image/png": "[encoded data removed]",
      "text/plain": [
       "<Figure size 576x396 with 1 Axes>"
      ]
     },
     "metadata": {},
     "output_type": "display_data"
    },
    {
     "name": "stdout",
     "output_type": "stream",
     "text": [
      "cluster-k:  5\n"
     ]
    },
    {
     "data": {
      "image/png": "[encoded data removed]",
      "text/plain": [
       "<Figure size 576x396 with 1 Axes>"
      ]
     },
     "metadata": {},
     "output_type": "display_data"
    },
    {
     "name": "stdout",
     "output_type": "stream",
     "text": [
      "cluster-k:  6\n"
     ]
    },
    {
     "data": {
      "image/png": "[encoded data removed]",
      "text/plain": [
       "<Figure size 576x396 with 1 Axes>"
      ]
     },
     "metadata": {},
     "output_type": "display_data"
    },
    {
     "name": "stdout",
     "output_type": "stream",
     "text": [
      "cluster-k:  7\n"
     ]
    },
    {
     "data": {
      "image/png": "[encoded data removed]",
      "text/plain": [
       "<Figure size 576x396 with 1 Axes>"
      ]
     },
     "metadata": {},
     "output_type": "display_data"
    },
    {
     "name": "stdout",
     "output_type": "stream",
     "text": [
      "cluster-k:  8\n"
     ]
    },
    {
     "data": {
      "image/png": "[encoded data removed]",
      "text/plain": [
       "<Figure size 576x396 with 1 Axes>"
      ]
     },
     "metadata": {},
     "output_type": "display_data"
    },
    {
     "name": "stdout",
     "output_type": "stream",
     "text": [
      "cluster-k:  9\n"
     ]
    },
    {
     "data": {
      "image/png": "[encoded data removed]",
      "text/plain": [
       "<Figure size 576x396 with 1 Axes>"
      ]
     },
     "metadata": {},
     "output_type": "display_data"
    }
   ],
   "source": [
    "clusters = range(2, 10)\n",
    "meanDistortions = []\n",
    "\n",
    "for k in clusters:\n",
    "    # finding optimal no. of clusters with silhouette coefficients\n",
    "    print('cluster-k: ',k)\n",
    "    visualizer = SilhouetteVisualizer(KMeans(k, random_state=1)) #with k clusters\n",
    "    visualizer.fit(data_scaled);\n",
    "    visualizer.show();"
   ]
  },
  {
   "cell_type": "markdown",
   "id": "35def0bf",
   "metadata": {},
   "source": [
    "### Features to select in k-means: k=4 CLUSTERS"
   ]
  },
  {
   "cell_type": "code",
   "execution_count": 71,
   "id": "de95d867",
   "metadata": {},
   "outputs": [
    {
     "data": {
      "text/plain": [
       "(74, 5)"
      ]
     },
     "execution_count": 71,
     "metadata": {},
     "output_type": "execute_result"
    }
   ],
   "source": [
    "data_scaled.shape"
   ]
  },
  {
   "cell_type": "code",
   "execution_count": 72,
   "id": "bcfd8e00",
   "metadata": {},
   "outputs": [],
   "source": [
    "X = np.array(data_scaled)[:,1::]\n",
    "Y = np.array(data_scaled)[:,0]"
   ]
  },
  {
   "cell_type": "code",
   "execution_count": 73,
   "id": "9869f48b",
   "metadata": {},
   "outputs": [],
   "source": [
    "# Apply k-means clustering\n",
    "k = 4  # Number of clusters\n",
    "kmeans2 = KMeans(n_clusters=k)"
   ]
  },
  {
   "cell_type": "code",
   "execution_count": 74,
   "id": "51e7307e",
   "metadata": {},
   "outputs": [
    {
     "data": {
      "text/html": [
       "<style>#sk-container-id-1 {color: black;background-color: white;}#sk-container-id-1 pre{padding: 0;}#sk-container-id-1 div.sk-toggleable {background-color: white;}#sk-container-id-1 label.sk-toggleable__label {cursor: pointer;display: block;width: 100%;margin-bottom: 0;padding: 0.3em;box-sizing: border-box;text-align: center;}#sk-container-id-1 label.sk-toggleable__label-arrow:before {content: \"▸\";float: left;margin-right: 0.25em;color: #696969;}#sk-container-id-1 label.sk-toggleable__label-arrow:hover:before {color: black;}#sk-container-id-1 div.sk-estimator:hover label.sk-toggleable__label-arrow:before {color: black;}#sk-container-id-1 div.sk-toggleable__content {max-height: 0;max-width: 0;overflow: hidden;text-align: left;background-color: #f0f8ff;}#sk-container-id-1 div.sk-toggleable__content pre {margin: 0.2em;color: black;border-radius: 0.25em;background-color: #f0f8ff;}#sk-container-id-1 input.sk-toggleable__control:checked~div.sk-toggleable__content {max-height: 200px;max-width: 100%;overflow: auto;}#sk-container-id-1 input.sk-toggleable__control:checked~label.sk-toggleable__label-arrow:before {content: \"▾\";}#sk-container-id-1 div.sk-estimator input.sk-toggleable__control:checked~label.sk-toggleable__label {background-color: #d4ebff;}#sk-container-id-1 div.sk-label input.sk-toggleable__control:checked~label.sk-toggleable__label {background-color: #d4ebff;}#sk-container-id-1 input.sk-hidden--visually {border: 0;clip: rect(1px 1px 1px 1px);clip: rect(1px, 1px, 1px, 1px);height: 1px;margin: -1px;overflow: hidden;padding: 0;position: absolute;width: 1px;}#sk-container-id-1 div.sk-estimator {font-family: monospace;background-color: #f0f8ff;border: 1px dotted black;border-radius: 0.25em;box-sizing: border-box;margin-bottom: 0.5em;}#sk-container-id-1 div.sk-estimator:hover {background-color: #d4ebff;}#sk-container-id-1 div.sk-parallel-item::after {content: \"\";width: 100%;border-bottom: 1px solid gray;flex-grow: 1;}#sk-container-id-1 div.sk-label:hover label.sk-toggleable__label {background-color: #d4ebff;}#sk-container-id-1 div.sk-serial::before {content: \"\";position: absolute;border-left: 1px solid gray;box-sizing: border-box;top: 0;bottom: 0;left: 50%;z-index: 0;}#sk-container-id-1 div.sk-serial {display: flex;flex-direction: column;align-items: center;background-color: white;padding-right: 0.2em;padding-left: 0.2em;position: relative;}#sk-container-id-1 div.sk-item {position: relative;z-index: 1;}#sk-container-id-1 div.sk-parallel {display: flex;align-items: stretch;justify-content: center;background-color: white;position: relative;}#sk-container-id-1 div.sk-item::before, #sk-container-id-1 div.sk-parallel-item::before {content: \"\";position: absolute;border-left: 1px solid gray;box-sizing: border-box;top: 0;bottom: 0;left: 50%;z-index: -1;}#sk-container-id-1 div.sk-parallel-item {display: flex;flex-direction: column;z-index: 1;position: relative;background-color: white;}#sk-container-id-1 div.sk-parallel-item:first-child::after {align-self: flex-end;width: 50%;}#sk-container-id-1 div.sk-parallel-item:last-child::after {align-self: flex-start;width: 50%;}#sk-container-id-1 div.sk-parallel-item:only-child::after {width: 0;}#sk-container-id-1 div.sk-dashed-wrapped {border: 1px dashed gray;margin: 0 0.4em 0.5em 0.4em;box-sizing: border-box;padding-bottom: 0.4em;background-color: white;}#sk-container-id-1 div.sk-label label {font-family: monospace;font-weight: bold;display: inline-block;line-height: 1.2em;}#sk-container-id-1 div.sk-label-container {text-align: center;}#sk-container-id-1 div.sk-container {/* jupyter's `normalize.less` sets `[hidden] { display: none; }` but bootstrap.min.css set `[hidden] { display: none !important; }` so we also need the `!important` here to be able to override the default hidden behavior on the sphinx rendered scikit-learn.org. See: https://github.com/scikit-learn/scikit-learn/issues/21755 */display: inline-block !important;position: relative;}#sk-container-id-1 div.sk-text-repr-fallback {display: none;}</style><div id=\"sk-container-id-1\" class=\"sk-top-container\"><div class=\"sk-text-repr-fallback\"><pre>KMeans(n_clusters=4)</pre><b>In a Jupyter environment, please rerun this cell to show the HTML representation or trust the notebook. <br />On GitHub, the HTML representation is unable to render, please try loading this page with nbviewer.org.</b></div><div class=\"sk-container\" hidden><div class=\"sk-item\"><div class=\"sk-estimator sk-toggleable\"><input class=\"sk-toggleable__control sk-hidden--visually\" id=\"sk-estimator-id-1\" type=\"checkbox\" checked><label for=\"sk-estimator-id-1\" class=\"sk-toggleable__label sk-toggleable__label-arrow\">KMeans</label><div class=\"sk-toggleable__content\"><pre>KMeans(n_clusters=4)</pre></div></div></div></div></div>"
      ],
      "text/plain": [
       "KMeans(n_clusters=4)"
      ]
     },
     "execution_count": 74,
     "metadata": {},
     "output_type": "execute_result"
    }
   ],
   "source": [
    "kmeans2.fit(data_scaled)"
   ]
  },
  {
   "cell_type": "code",
   "execution_count": 75,
   "id": "d3243430",
   "metadata": {},
   "outputs": [
    {
     "data": {
      "text/plain": [
       "74"
      ]
     },
     "execution_count": 75,
     "metadata": {},
     "output_type": "execute_result"
    }
   ],
   "source": [
    "# Get the cluster labels for each data point\n",
    "cluster_labels = kmeans2.labels_\n",
    "len(cluster_labels) #it has 241 predictions in 5 clusters: 0,1,2,3,4"
   ]
  },
  {
   "cell_type": "code",
   "execution_count": 76,
   "id": "cbbc54e5",
   "metadata": {},
   "outputs": [
    {
     "data": {
      "text/plain": [
       "198.32202682365084"
      ]
     },
     "execution_count": 76,
     "metadata": {},
     "output_type": "execute_result"
    }
   ],
   "source": [
    "kmeans2.inertia_"
   ]
  },
  {
   "cell_type": "markdown",
   "id": "8348dc19",
   "metadata": {},
   "source": [
    "## Metrics of the clusters"
   ]
  },
  {
   "cell_type": "markdown",
   "id": "ee0c5cbc",
   "metadata": {},
   "source": [
    "**Data Frame of clusters centers**"
   ]
  },
  {
   "cell_type": "code",
   "execution_count": 77,
   "id": "f0fa0f52",
   "metadata": {
    "scrolled": true
   },
   "outputs": [
    {
     "data": {
      "text/plain": [
       "array([[-0.65840027, -0.19993753, -0.39191954, -0.49852679,  0.92248743]])"
      ]
     },
     "execution_count": 77,
     "metadata": {},
     "output_type": "execute_result"
    }
   ],
   "source": [
    "kmeans2.cluster_centers_[0:1] #first cluster center / shape:(1,21)"
   ]
  },
  {
   "cell_type": "code",
   "execution_count": 78,
   "id": "6cd0f5a7",
   "metadata": {},
   "outputs": [
    {
     "data": {
      "text/html": [
       "<div>\n",
       "<style scoped>\n",
       "    .dataframe tbody tr th:only-of-type {\n",
       "        vertical-align: middle;\n",
       "    }\n",
       "\n",
       "    .dataframe tbody tr th {\n",
       "        vertical-align: top;\n",
       "    }\n",
       "\n",
       "    .dataframe thead th {\n",
       "        text-align: right;\n",
       "    }\n",
       "</style>\n",
       "<table border=\"1\" class=\"dataframe\">\n",
       "  <thead>\n",
       "    <tr style=\"text-align: right;\">\n",
       "      <th></th>\n",
       "      <th>estudios</th>\n",
       "      <th>ocupación</th>\n",
       "      <th>ingresos</th>\n",
       "      <th>sector</th>\n",
       "      <th>edad</th>\n",
       "    </tr>\n",
       "  </thead>\n",
       "  <tbody>\n",
       "    <tr>\n",
       "      <th>0</th>\n",
       "      <td>-0.658400</td>\n",
       "      <td>-0.199938</td>\n",
       "      <td>-0.391920</td>\n",
       "      <td>-0.498527</td>\n",
       "      <td>0.922487</td>\n",
       "    </tr>\n",
       "    <tr>\n",
       "      <th>1</th>\n",
       "      <td>0.309356</td>\n",
       "      <td>1.045774</td>\n",
       "      <td>1.089202</td>\n",
       "      <td>-0.279464</td>\n",
       "      <td>-0.022293</td>\n",
       "    </tr>\n",
       "    <tr>\n",
       "      <th>2</th>\n",
       "      <td>0.146583</td>\n",
       "      <td>-0.536041</td>\n",
       "      <td>-0.539256</td>\n",
       "      <td>-0.342629</td>\n",
       "      <td>-0.882201</td>\n",
       "    </tr>\n",
       "    <tr>\n",
       "      <th>3</th>\n",
       "      <td>0.518888</td>\n",
       "      <td>-0.046776</td>\n",
       "      <td>0.277087</td>\n",
       "      <td>2.176507</td>\n",
       "      <td>0.114281</td>\n",
       "    </tr>\n",
       "  </tbody>\n",
       "</table>\n",
       "</div>"
      ],
      "text/plain": [
       "   estudios  ocupación  ingresos    sector      edad\n",
       "0 -0.658400  -0.199938 -0.391920 -0.498527  0.922487\n",
       "1  0.309356   1.045774  1.089202 -0.279464 -0.022293\n",
       "2  0.146583  -0.536041 -0.539256 -0.342629 -0.882201\n",
       "3  0.518888  -0.046776  0.277087  2.176507  0.114281"
      ]
     },
     "execution_count": 78,
     "metadata": {},
     "output_type": "execute_result"
    }
   ],
   "source": [
    "cluster_center_df = pd.DataFrame(kmeans2.cluster_centers_, columns=data_encoded.columns.tolist())\n",
    "cluster_center_df.head()"
   ]
  },
  {
   "cell_type": "markdown",
   "id": "1fe4eee8",
   "metadata": {},
   "source": [
    "**Data Frame of the mean of each clusters**"
   ]
  },
  {
   "cell_type": "code",
   "execution_count": 79,
   "id": "44c29bb2",
   "metadata": {
    "scrolled": true
   },
   "outputs": [
    {
     "data": {
      "text/html": [
       "<div>\n",
       "<style scoped>\n",
       "    .dataframe tbody tr th:only-of-type {\n",
       "        vertical-align: middle;\n",
       "    }\n",
       "\n",
       "    .dataframe tbody tr th {\n",
       "        vertical-align: top;\n",
       "    }\n",
       "\n",
       "    .dataframe thead th {\n",
       "        text-align: right;\n",
       "    }\n",
       "</style>\n",
       "<table border=\"1\" class=\"dataframe\">\n",
       "  <thead>\n",
       "    <tr style=\"text-align: right;\">\n",
       "      <th></th>\n",
       "      <th>estudios</th>\n",
       "      <th>ocupación</th>\n",
       "      <th>ingresos</th>\n",
       "      <th>sector</th>\n",
       "      <th>edad</th>\n",
       "    </tr>\n",
       "  </thead>\n",
       "  <tbody>\n",
       "    <tr>\n",
       "      <th>0</th>\n",
       "      <td>27.922078</td>\n",
       "      <td>8.909091</td>\n",
       "      <td>291.863636</td>\n",
       "      <td>10.681818</td>\n",
       "      <td>44.454545</td>\n",
       "    </tr>\n",
       "    <tr>\n",
       "      <th>1</th>\n",
       "      <td>48.739496</td>\n",
       "      <td>20.000000</td>\n",
       "      <td>612.176471</td>\n",
       "      <td>13.529412</td>\n",
       "      <td>32.764706</td>\n",
       "    </tr>\n",
       "    <tr>\n",
       "      <th>2</th>\n",
       "      <td>45.238095</td>\n",
       "      <td>5.916667</td>\n",
       "      <td>260.000000</td>\n",
       "      <td>12.708333</td>\n",
       "      <td>22.125000</td>\n",
       "    </tr>\n",
       "    <tr>\n",
       "      <th>3</th>\n",
       "      <td>53.246753</td>\n",
       "      <td>10.272727</td>\n",
       "      <td>436.545455</td>\n",
       "      <td>45.454545</td>\n",
       "      <td>34.454545</td>\n",
       "    </tr>\n",
       "  </tbody>\n",
       "</table>\n",
       "</div>"
      ],
      "text/plain": [
       "    estudios  ocupación    ingresos     sector       edad\n",
       "0  27.922078   8.909091  291.863636  10.681818  44.454545\n",
       "1  48.739496  20.000000  612.176471  13.529412  32.764706\n",
       "2  45.238095   5.916667  260.000000  12.708333  22.125000\n",
       "3  53.246753  10.272727  436.545455  45.454545  34.454545"
      ]
     },
     "execution_count": 79,
     "metadata": {},
     "output_type": "execute_result"
    }
   ],
   "source": [
    "mean_of_clusters = scaler.inverse_transform(cluster_center_df) #inverse transform\n",
    "inverse_transform_df = pd.DataFrame(mean_of_clusters,columns=data_encoded.columns.tolist())\n",
    "inverse_transform_df.head()"
   ]
  },
  {
   "cell_type": "code",
   "execution_count": 80,
   "id": "38b21863",
   "metadata": {},
   "outputs": [
    {
     "data": {
      "text/plain": [
       "array([0, 2, 0, 2, 0, 0, 0, 0, 0, 2, 0, 2, 0, 0, 2, 0, 1, 0, 2, 2, 2, 2,\n",
       "       0, 2, 0, 0, 0, 2, 1, 1, 2, 2, 3, 2, 1, 2, 2, 2, 1, 1, 3, 0, 2, 3,\n",
       "       0, 0, 3, 3, 3, 2, 2, 2, 0, 1, 2, 0, 1, 3, 0, 3, 1, 3, 2, 3, 1, 1,\n",
       "       1, 1, 1, 1, 3, 1, 2, 1])"
      ]
     },
     "execution_count": 80,
     "metadata": {},
     "output_type": "execute_result"
    }
   ],
   "source": [
    "cluster_labels"
   ]
  },
  {
   "cell_type": "code",
   "execution_count": 81,
   "id": "ec44a169",
   "metadata": {},
   "outputs": [],
   "source": [
    "data_encoded['cluster'] = cluster_labels"
   ]
  },
  {
   "cell_type": "code",
   "execution_count": 82,
   "id": "27aa3adf",
   "metadata": {},
   "outputs": [
    {
     "data": {
      "text/html": [
       "<div>\n",
       "<style scoped>\n",
       "    .dataframe tbody tr th:only-of-type {\n",
       "        vertical-align: middle;\n",
       "    }\n",
       "\n",
       "    .dataframe tbody tr th {\n",
       "        vertical-align: top;\n",
       "    }\n",
       "\n",
       "    .dataframe thead th {\n",
       "        text-align: right;\n",
       "    }\n",
       "</style>\n",
       "<table border=\"1\" class=\"dataframe\">\n",
       "  <thead>\n",
       "    <tr style=\"text-align: right;\">\n",
       "      <th></th>\n",
       "      <th>estudios</th>\n",
       "      <th>ocupación</th>\n",
       "      <th>ingresos</th>\n",
       "      <th>sector</th>\n",
       "      <th>edad</th>\n",
       "    </tr>\n",
       "    <tr>\n",
       "      <th>cluster</th>\n",
       "      <th></th>\n",
       "      <th></th>\n",
       "      <th></th>\n",
       "      <th></th>\n",
       "      <th></th>\n",
       "    </tr>\n",
       "  </thead>\n",
       "  <tbody>\n",
       "    <tr>\n",
       "      <th>0</th>\n",
       "      <td>27.922078</td>\n",
       "      <td>8.909091</td>\n",
       "      <td>291.863636</td>\n",
       "      <td>10.681818</td>\n",
       "      <td>44.454545</td>\n",
       "    </tr>\n",
       "    <tr>\n",
       "      <th>1</th>\n",
       "      <td>48.739496</td>\n",
       "      <td>20.000000</td>\n",
       "      <td>612.176471</td>\n",
       "      <td>13.529412</td>\n",
       "      <td>32.764706</td>\n",
       "    </tr>\n",
       "    <tr>\n",
       "      <th>2</th>\n",
       "      <td>45.238095</td>\n",
       "      <td>5.916667</td>\n",
       "      <td>260.000000</td>\n",
       "      <td>12.708333</td>\n",
       "      <td>22.125000</td>\n",
       "    </tr>\n",
       "    <tr>\n",
       "      <th>3</th>\n",
       "      <td>53.246753</td>\n",
       "      <td>10.272727</td>\n",
       "      <td>436.545455</td>\n",
       "      <td>45.454545</td>\n",
       "      <td>34.454545</td>\n",
       "    </tr>\n",
       "  </tbody>\n",
       "</table>\n",
       "</div>"
      ],
      "text/plain": [
       "          estudios  ocupación    ingresos     sector       edad\n",
       "cluster                                                        \n",
       "0        27.922078   8.909091  291.863636  10.681818  44.454545\n",
       "1        48.739496  20.000000  612.176471  13.529412  32.764706\n",
       "2        45.238095   5.916667  260.000000  12.708333  22.125000\n",
       "3        53.246753  10.272727  436.545455  45.454545  34.454545"
      ]
     },
     "execution_count": 82,
     "metadata": {},
     "output_type": "execute_result"
    }
   ],
   "source": [
    "data_encoded.groupby('cluster').mean()"
   ]
  },
  {
   "cell_type": "markdown",
   "id": "cdfeab62",
   "metadata": {},
   "source": [
    "**Data Frame encoded etiquetado con clusters**"
   ]
  },
  {
   "cell_type": "code",
   "execution_count": 83,
   "id": "9a785550",
   "metadata": {},
   "outputs": [
    {
     "data": {
      "text/html": [
       "<div>\n",
       "<style scoped>\n",
       "    .dataframe tbody tr th:only-of-type {\n",
       "        vertical-align: middle;\n",
       "    }\n",
       "\n",
       "    .dataframe tbody tr th {\n",
       "        vertical-align: top;\n",
       "    }\n",
       "\n",
       "    .dataframe thead th {\n",
       "        text-align: right;\n",
       "    }\n",
       "</style>\n",
       "<table border=\"1\" class=\"dataframe\">\n",
       "  <thead>\n",
       "    <tr style=\"text-align: right;\">\n",
       "      <th></th>\n",
       "      <th>estudios</th>\n",
       "      <th>ocupación</th>\n",
       "      <th>ingresos</th>\n",
       "      <th>sector</th>\n",
       "      <th>edad</th>\n",
       "      <th>cluster</th>\n",
       "    </tr>\n",
       "  </thead>\n",
       "  <tbody>\n",
       "    <tr>\n",
       "      <th>177</th>\n",
       "      <td>28.571429</td>\n",
       "      <td>10</td>\n",
       "      <td>260.0</td>\n",
       "      <td>10</td>\n",
       "      <td>52</td>\n",
       "      <td>0</td>\n",
       "    </tr>\n",
       "    <tr>\n",
       "      <th>178</th>\n",
       "      <td>71.428571</td>\n",
       "      <td>10</td>\n",
       "      <td>260.0</td>\n",
       "      <td>10</td>\n",
       "      <td>32</td>\n",
       "      <td>2</td>\n",
       "    </tr>\n",
       "  </tbody>\n",
       "</table>\n",
       "</div>"
      ],
      "text/plain": [
       "      estudios  ocupación  ingresos  sector  edad  cluster\n",
       "177  28.571429         10     260.0      10    52        0\n",
       "178  71.428571         10     260.0      10    32        2"
      ]
     },
     "execution_count": 83,
     "metadata": {},
     "output_type": "execute_result"
    }
   ],
   "source": [
    "data_encoded.head(2)"
   ]
  },
  {
   "cell_type": "code",
   "execution_count": 84,
   "id": "46c2af6b",
   "metadata": {},
   "outputs": [],
   "source": [
    "#data_encoded.drop('cluster',axis=1,inplace=True)"
   ]
  },
  {
   "cell_type": "code",
   "execution_count": 85,
   "id": "55326076",
   "metadata": {},
   "outputs": [
    {
     "data": {
      "text/plain": [
       "(5,)"
      ]
     },
     "execution_count": 85,
     "metadata": {},
     "output_type": "execute_result"
    }
   ],
   "source": [
    "kmeans2.cluster_centers_[0].shape"
   ]
  },
  {
   "cell_type": "code",
   "execution_count": 87,
   "id": "d3a44e27",
   "metadata": {},
   "outputs": [
    {
     "data": {
      "text/plain": [
       "Text(0, 0.5, 'edad')"
      ]
     },
     "execution_count": 87,
     "metadata": {},
     "output_type": "execute_result"
    },
    {
     "data": {
      "image/png": "[encoded data removed]",
      "text/plain": [
       "<Figure size 400x300 with 1 Axes>"
      ]
     },
     "metadata": {},
     "output_type": "display_data"
    }
   ],
   "source": [
    "x_name='ingresos'\n",
    "y_name='edad'\n",
    "\n",
    "\n",
    "plt.style.use('default')\n",
    "plt.figure(figsize=(4, 3))\n",
    "plt.scatter(data_encoded[x_name], \n",
    "            data_encoded[y_name], \n",
    "            c = kmeans2.labels_.astype(float), s=10, cmap='tab20b', marker='x')\n",
    "plt.title(x_name+' vs '+y_name, fontsize=18, fontweight='bold')\n",
    "plt.xlabel(x_name, fontsize=15)\n",
    "plt.ylabel(y_name, fontsize=15)\n",
    "\n",
    "#centers = kmeans2.cluster_centers_\n",
    "#plt.scatter(centers[:, 0], centers[:, 1], c='black', s=100, alpha=0.5);"
   ]
  },
  {
   "cell_type": "markdown",
   "id": "81b14431",
   "metadata": {},
   "source": [
    "**Data Frame Original con clusters**"
   ]
  },
  {
   "cell_type": "code",
   "execution_count": 88,
   "id": "bdbe7c87",
   "metadata": {},
   "outputs": [
    {
     "data": {
      "text/html": [
       "<div>\n",
       "<style scoped>\n",
       "    .dataframe tbody tr th:only-of-type {\n",
       "        vertical-align: middle;\n",
       "    }\n",
       "\n",
       "    .dataframe tbody tr th {\n",
       "        vertical-align: top;\n",
       "    }\n",
       "\n",
       "    .dataframe thead th {\n",
       "        text-align: right;\n",
       "    }\n",
       "</style>\n",
       "<table border=\"1\" class=\"dataframe\">\n",
       "  <thead>\n",
       "    <tr style=\"text-align: right;\">\n",
       "      <th></th>\n",
       "      <th>estudios</th>\n",
       "      <th>ocupación</th>\n",
       "      <th>ingresos</th>\n",
       "      <th>sector</th>\n",
       "      <th>edad</th>\n",
       "      <th>cluster</th>\n",
       "    </tr>\n",
       "  </thead>\n",
       "  <tbody>\n",
       "    <tr>\n",
       "      <th>177</th>\n",
       "      <td>28.571429</td>\n",
       "      <td>10</td>\n",
       "      <td>260.0</td>\n",
       "      <td>10</td>\n",
       "      <td>52</td>\n",
       "      <td>0</td>\n",
       "    </tr>\n",
       "    <tr>\n",
       "      <th>178</th>\n",
       "      <td>71.428571</td>\n",
       "      <td>10</td>\n",
       "      <td>260.0</td>\n",
       "      <td>10</td>\n",
       "      <td>32</td>\n",
       "      <td>2</td>\n",
       "    </tr>\n",
       "    <tr>\n",
       "      <th>179</th>\n",
       "      <td>28.571429</td>\n",
       "      <td>10</td>\n",
       "      <td>260.0</td>\n",
       "      <td>10</td>\n",
       "      <td>53</td>\n",
       "      <td>0</td>\n",
       "    </tr>\n",
       "    <tr>\n",
       "      <th>180</th>\n",
       "      <td>28.571429</td>\n",
       "      <td>10</td>\n",
       "      <td>260.0</td>\n",
       "      <td>10</td>\n",
       "      <td>22</td>\n",
       "      <td>2</td>\n",
       "    </tr>\n",
       "    <tr>\n",
       "      <th>181</th>\n",
       "      <td>28.571429</td>\n",
       "      <td>10</td>\n",
       "      <td>260.0</td>\n",
       "      <td>10</td>\n",
       "      <td>57</td>\n",
       "      <td>0</td>\n",
       "    </tr>\n",
       "  </tbody>\n",
       "</table>\n",
       "</div>"
      ],
      "text/plain": [
       "      estudios  ocupación  ingresos  sector  edad  cluster\n",
       "177  28.571429         10     260.0      10    52        0\n",
       "178  71.428571         10     260.0      10    32        2\n",
       "179  28.571429         10     260.0      10    53        0\n",
       "180  28.571429         10     260.0      10    22        2\n",
       "181  28.571429         10     260.0      10    57        0"
      ]
     },
     "execution_count": 88,
     "metadata": {},
     "output_type": "execute_result"
    }
   ],
   "source": [
    "#Add the cluster labels to the original dataset\n",
    "df2['cluster'] = cluster_labels\n",
    "\n",
    "#Print the clusters\n",
    "df2.head()"
   ]
  },
  {
   "cell_type": "code",
   "execution_count": 89,
   "id": "26cacaf7",
   "metadata": {},
   "outputs": [
    {
     "data": {
      "text/plain": [
       "2    24\n",
       "0    22\n",
       "1    17\n",
       "3    11\n",
       "Name: cluster, dtype: int64"
      ]
     },
     "execution_count": 89,
     "metadata": {},
     "output_type": "execute_result"
    }
   ],
   "source": [
    "df2['cluster'].value_counts()"
   ]
  },
  {
   "cell_type": "code",
   "execution_count": 90,
   "id": "50571748",
   "metadata": {},
   "outputs": [
    {
     "data": {
      "text/html": [
       "<div>\n",
       "<style scoped>\n",
       "    .dataframe tbody tr th:only-of-type {\n",
       "        vertical-align: middle;\n",
       "    }\n",
       "\n",
       "    .dataframe tbody tr th {\n",
       "        vertical-align: top;\n",
       "    }\n",
       "\n",
       "    .dataframe thead th {\n",
       "        text-align: right;\n",
       "    }\n",
       "</style>\n",
       "<table border=\"1\" class=\"dataframe\">\n",
       "  <thead>\n",
       "    <tr style=\"text-align: right;\">\n",
       "      <th></th>\n",
       "      <th>estudios</th>\n",
       "      <th>ocupación</th>\n",
       "      <th>ingresos</th>\n",
       "      <th>sector</th>\n",
       "      <th>edad</th>\n",
       "    </tr>\n",
       "    <tr>\n",
       "      <th>cluster</th>\n",
       "      <th></th>\n",
       "      <th></th>\n",
       "      <th></th>\n",
       "      <th></th>\n",
       "      <th></th>\n",
       "    </tr>\n",
       "  </thead>\n",
       "  <tbody>\n",
       "    <tr>\n",
       "      <th>0</th>\n",
       "      <td>27.922078</td>\n",
       "      <td>8.909091</td>\n",
       "      <td>291.863636</td>\n",
       "      <td>10.681818</td>\n",
       "      <td>44.454545</td>\n",
       "    </tr>\n",
       "    <tr>\n",
       "      <th>1</th>\n",
       "      <td>48.739496</td>\n",
       "      <td>20.000000</td>\n",
       "      <td>612.176471</td>\n",
       "      <td>13.529412</td>\n",
       "      <td>32.764706</td>\n",
       "    </tr>\n",
       "    <tr>\n",
       "      <th>2</th>\n",
       "      <td>45.238095</td>\n",
       "      <td>5.916667</td>\n",
       "      <td>260.000000</td>\n",
       "      <td>12.708333</td>\n",
       "      <td>22.125000</td>\n",
       "    </tr>\n",
       "    <tr>\n",
       "      <th>3</th>\n",
       "      <td>53.246753</td>\n",
       "      <td>10.272727</td>\n",
       "      <td>436.545455</td>\n",
       "      <td>45.454545</td>\n",
       "      <td>34.454545</td>\n",
       "    </tr>\n",
       "  </tbody>\n",
       "</table>\n",
       "</div>"
      ],
      "text/plain": [
       "          estudios  ocupación    ingresos     sector       edad\n",
       "cluster                                                        \n",
       "0        27.922078   8.909091  291.863636  10.681818  44.454545\n",
       "1        48.739496  20.000000  612.176471  13.529412  32.764706\n",
       "2        45.238095   5.916667  260.000000  12.708333  22.125000\n",
       "3        53.246753  10.272727  436.545455  45.454545  34.454545"
      ]
     },
     "execution_count": 90,
     "metadata": {},
     "output_type": "execute_result"
    }
   ],
   "source": [
    "df2.groupby(by='cluster').mean()"
   ]
  },
  {
   "cell_type": "code",
   "execution_count": 91,
   "id": "71fd6440",
   "metadata": {
    "scrolled": true
   },
   "outputs": [
    {
     "name": "stdout",
     "output_type": "stream",
     "text": [
      "cluster:  0\n",
      "        estudios  ocupación    ingresos     sector       edad  cluster\n",
      "count  22.000000  22.000000   22.000000  22.000000  22.000000     22.0\n",
      "mean   27.922078   8.909091  291.863636  10.681818  44.454545      0.0\n",
      "std    11.220272   6.760594  103.132853   3.198011   7.601549      0.0\n",
      "min    14.285714   1.000000  260.000000  10.000000  32.000000      0.0\n",
      "25%    28.571429   3.250000  260.000000  10.000000  39.000000      0.0\n",
      "50%    28.571429  10.000000  260.000000  10.000000  45.500000      0.0\n",
      "75%    28.571429  10.000000  260.000000  10.000000  50.250000      0.0\n",
      "max    71.428571  30.000000  610.500000  25.000000  57.000000      0.0\n",
      "          estudios  ocupación    ingresos     sector       edad\n",
      "cluster                                                        \n",
      "0        27.922078   8.909091  291.863636  10.681818  44.454545\n",
      "\n",
      "\n",
      "cluster:  1\n",
      "        estudios  ocupación     ingresos     sector       edad  cluster\n",
      "count  17.000000  17.000000    17.000000  17.000000  17.000000     17.0\n",
      "mean   48.739496  20.000000   612.176471  13.529412  32.764706      1.0\n",
      "std    22.049818   9.354143   243.888162   6.558560  10.371411      0.0\n",
      "min    28.571429  10.000000   260.000000  10.000000   2.000000      1.0\n",
      "25%    28.571429  10.000000   610.500000  10.000000  29.000000      1.0\n",
      "50%    42.857143  20.000000   610.500000  10.000000  33.000000      1.0\n",
      "75%    71.428571  30.000000   610.500000  10.000000  38.000000      1.0\n",
      "max    85.714286  30.000000  1150.500000  25.000000  50.000000      1.0\n",
      "          estudios  ocupación    ingresos     sector       edad\n",
      "cluster                                                        \n",
      "1        48.739496       20.0  612.176471  13.529412  32.764706\n",
      "\n",
      "\n",
      "cluster:  2\n",
      "        estudios  ocupación  ingresos     sector       edad  cluster\n",
      "count  24.000000  24.000000      24.0  24.000000  24.000000     24.0\n",
      "mean   45.238095   5.916667     260.0  12.708333  22.125000      2.0\n",
      "std    20.922244   5.404641       0.0   6.251811   7.577498      0.0\n",
      "min    28.571429   1.000000     260.0  10.000000   2.000000      2.0\n",
      "25%    28.571429   1.000000     260.0  10.000000  20.750000      2.0\n",
      "50%    28.571429   5.500000     260.0  10.000000  23.000000      2.0\n",
      "75%    71.428571  10.000000     260.0  10.000000  26.250000      2.0\n",
      "max    71.428571  20.000000     260.0  30.000000  33.000000      2.0\n",
      "          estudios  ocupación  ingresos     sector    edad\n",
      "cluster                                                   \n",
      "2        45.238095   5.916667     260.0  12.708333  22.125\n",
      "\n",
      "\n",
      "cluster:  3\n",
      "        estudios  ocupación     ingresos     sector       edad  cluster\n",
      "count  11.000000  11.000000    11.000000  11.000000  11.000000     11.0\n",
      "mean   53.246753  10.272727   436.545455  45.454545  34.454545      3.0\n",
      "std    26.411894   8.614997   286.127546   5.222330  11.509680      0.0\n",
      "min    28.571429   1.000000   260.000000  40.000000  19.000000      3.0\n",
      "25%    28.571429   5.500000   260.000000  40.000000  25.500000      3.0\n",
      "50%    42.857143  10.000000   260.000000  50.000000  33.000000      3.0\n",
      "75%    78.571429  10.000000   610.500000  50.000000  42.000000      3.0\n",
      "max    85.714286  30.000000  1150.500000  50.000000  54.000000      3.0\n",
      "          estudios  ocupación    ingresos     sector       edad\n",
      "cluster                                                        \n",
      "3        53.246753  10.272727  436.545455  45.454545  34.454545\n",
      "\n",
      "\n"
     ]
    }
   ],
   "source": [
    "for i in range(0,k):\n",
    "    print(\"cluster: \",i)\n",
    "    print(df2[df2['cluster']==i].describe())\n",
    "    print(df2.groupby(by='cluster').mean()[i:i+1])\n",
    "    print(\"\\n\")"
   ]
  },
  {
   "cell_type": "markdown",
   "id": "ba397409",
   "metadata": {},
   "source": [
    "## Testing the kmeans model"
   ]
  },
  {
   "cell_type": "code",
   "execution_count": 92,
   "id": "9afe2a20",
   "metadata": {},
   "outputs": [],
   "source": [
    "data_test=data_encoded.drop('cluster',axis=1)"
   ]
  },
  {
   "cell_type": "code",
   "execution_count": 93,
   "id": "fc7ed3cc",
   "metadata": {},
   "outputs": [
    {
     "data": {
      "text/plain": [
       "array([1])"
      ]
     },
     "execution_count": 93,
     "metadata": {},
     "output_type": "execute_result"
    }
   ],
   "source": [
    "kmeans2.predict(data_test.iloc[0:1])"
   ]
  },
  {
   "cell_type": "code",
   "execution_count": 94,
   "id": "4b754bd4",
   "metadata": {},
   "outputs": [
    {
     "data": {
      "text/plain": [
       "array([1, 1, 1, 1, 1, 1, 1, 1, 1, 1, 1, 1, 1, 1, 1, 1, 1, 1, 1, 1, 1, 1,\n",
       "       1, 1, 1, 1, 1, 1, 1, 1, 1, 1, 1, 1, 1, 1, 1, 1, 1, 1, 1, 1, 1, 1,\n",
       "       1, 1, 1, 1, 1, 1, 1, 1, 1, 1, 1, 1, 1, 1, 1, 1, 1, 1, 1, 1, 1, 1,\n",
       "       1, 1, 1, 1, 1, 1, 1])"
      ]
     },
     "execution_count": 94,
     "metadata": {},
     "output_type": "execute_result"
    }
   ],
   "source": [
    "kmeans2.predict(data_test.iloc[0:73])"
   ]
  },
  {
   "cell_type": "code",
   "execution_count": 95,
   "id": "b081dd91",
   "metadata": {},
   "outputs": [
    {
     "data": {
      "text/plain": [
       "array([1])"
      ]
     },
     "execution_count": 95,
     "metadata": {},
     "output_type": "execute_result"
    }
   ],
   "source": [
    "kmeans2.predict(data_test.iloc[70:71])"
   ]
  },
  {
   "cell_type": "code",
   "execution_count": 96,
   "id": "1a53ef4d",
   "metadata": {},
   "outputs": [
    {
     "data": {
      "text/plain": [
       "74"
      ]
     },
     "execution_count": 96,
     "metadata": {},
     "output_type": "execute_result"
    }
   ],
   "source": [
    "len(kmeans2.labels_)"
   ]
  },
  {
   "cell_type": "code",
   "execution_count": 97,
   "id": "a3205480",
   "metadata": {},
   "outputs": [
    {
     "data": {
      "text/html": [
       "<div>\n",
       "<style scoped>\n",
       "    .dataframe tbody tr th:only-of-type {\n",
       "        vertical-align: middle;\n",
       "    }\n",
       "\n",
       "    .dataframe tbody tr th {\n",
       "        vertical-align: top;\n",
       "    }\n",
       "\n",
       "    .dataframe thead th {\n",
       "        text-align: right;\n",
       "    }\n",
       "</style>\n",
       "<table border=\"1\" class=\"dataframe\">\n",
       "  <thead>\n",
       "    <tr style=\"text-align: right;\">\n",
       "      <th></th>\n",
       "      <th>index</th>\n",
       "      <th>estudios</th>\n",
       "      <th>ocupación</th>\n",
       "      <th>ingresos</th>\n",
       "      <th>sector</th>\n",
       "      <th>edad</th>\n",
       "      <th>cluster</th>\n",
       "    </tr>\n",
       "  </thead>\n",
       "  <tbody>\n",
       "    <tr>\n",
       "      <th>0</th>\n",
       "      <td>177</td>\n",
       "      <td>28.571429</td>\n",
       "      <td>10</td>\n",
       "      <td>260.0</td>\n",
       "      <td>10</td>\n",
       "      <td>52</td>\n",
       "      <td>0</td>\n",
       "    </tr>\n",
       "    <tr>\n",
       "      <th>1</th>\n",
       "      <td>178</td>\n",
       "      <td>71.428571</td>\n",
       "      <td>10</td>\n",
       "      <td>260.0</td>\n",
       "      <td>10</td>\n",
       "      <td>32</td>\n",
       "      <td>2</td>\n",
       "    </tr>\n",
       "  </tbody>\n",
       "</table>\n",
       "</div>"
      ],
      "text/plain": [
       "   index   estudios  ocupación  ingresos  sector  edad  cluster\n",
       "0    177  28.571429         10     260.0      10    52        0\n",
       "1    178  71.428571         10     260.0      10    32        2"
      ]
     },
     "execution_count": 97,
     "metadata": {},
     "output_type": "execute_result"
    }
   ],
   "source": [
    "data_encoded.reset_index(inplace=True)\n",
    "data_encoded.head(2)"
   ]
  },
  {
   "cell_type": "code",
   "execution_count": 98,
   "id": "b3e873a9",
   "metadata": {},
   "outputs": [],
   "source": [
    "data_encoded.drop('index',axis=1,inplace=True)"
   ]
  },
  {
   "cell_type": "code",
   "execution_count": 99,
   "id": "85ad196c",
   "metadata": {},
   "outputs": [
    {
     "data": {
      "text/html": [
       "<div>\n",
       "<style scoped>\n",
       "    .dataframe tbody tr th:only-of-type {\n",
       "        vertical-align: middle;\n",
       "    }\n",
       "\n",
       "    .dataframe tbody tr th {\n",
       "        vertical-align: top;\n",
       "    }\n",
       "\n",
       "    .dataframe thead th {\n",
       "        text-align: right;\n",
       "    }\n",
       "</style>\n",
       "<table border=\"1\" class=\"dataframe\">\n",
       "  <thead>\n",
       "    <tr style=\"text-align: right;\">\n",
       "      <th></th>\n",
       "      <th>estudios</th>\n",
       "      <th>ocupación</th>\n",
       "      <th>ingresos</th>\n",
       "      <th>sector</th>\n",
       "      <th>edad</th>\n",
       "      <th>cluster</th>\n",
       "    </tr>\n",
       "  </thead>\n",
       "  <tbody>\n",
       "    <tr>\n",
       "      <th>18</th>\n",
       "      <td>28.571429</td>\n",
       "      <td>1</td>\n",
       "      <td>260.0</td>\n",
       "      <td>10</td>\n",
       "      <td>21</td>\n",
       "      <td>2</td>\n",
       "    </tr>\n",
       "    <tr>\n",
       "      <th>4</th>\n",
       "      <td>28.571429</td>\n",
       "      <td>10</td>\n",
       "      <td>260.0</td>\n",
       "      <td>10</td>\n",
       "      <td>57</td>\n",
       "      <td>0</td>\n",
       "    </tr>\n",
       "    <tr>\n",
       "      <th>70</th>\n",
       "      <td>85.714286</td>\n",
       "      <td>10</td>\n",
       "      <td>610.5</td>\n",
       "      <td>50</td>\n",
       "      <td>26</td>\n",
       "      <td>3</td>\n",
       "    </tr>\n",
       "    <tr>\n",
       "      <th>15</th>\n",
       "      <td>28.571429</td>\n",
       "      <td>1</td>\n",
       "      <td>260.0</td>\n",
       "      <td>10</td>\n",
       "      <td>39</td>\n",
       "      <td>0</td>\n",
       "    </tr>\n",
       "    <tr>\n",
       "      <th>69</th>\n",
       "      <td>71.428571</td>\n",
       "      <td>20</td>\n",
       "      <td>610.5</td>\n",
       "      <td>25</td>\n",
       "      <td>35</td>\n",
       "      <td>1</td>\n",
       "    </tr>\n",
       "  </tbody>\n",
       "</table>\n",
       "</div>"
      ],
      "text/plain": [
       "     estudios  ocupación  ingresos  sector  edad  cluster\n",
       "18  28.571429          1     260.0      10    21        2\n",
       "4   28.571429         10     260.0      10    57        0\n",
       "70  85.714286         10     610.5      50    26        3\n",
       "15  28.571429          1     260.0      10    39        0\n",
       "69  71.428571         20     610.5      25    35        1"
      ]
     },
     "execution_count": 99,
     "metadata": {},
     "output_type": "execute_result"
    }
   ],
   "source": [
    "data_encoded.sample(5)"
   ]
  },
  {
   "cell_type": "code",
   "execution_count": 100,
   "id": "9cd32935",
   "metadata": {},
   "outputs": [
    {
     "data": {
      "text/html": [
       "<div>\n",
       "<style scoped>\n",
       "    .dataframe tbody tr th:only-of-type {\n",
       "        vertical-align: middle;\n",
       "    }\n",
       "\n",
       "    .dataframe tbody tr th {\n",
       "        vertical-align: top;\n",
       "    }\n",
       "\n",
       "    .dataframe thead th {\n",
       "        text-align: right;\n",
       "    }\n",
       "</style>\n",
       "<table border=\"1\" class=\"dataframe\">\n",
       "  <thead>\n",
       "    <tr style=\"text-align: right;\">\n",
       "      <th></th>\n",
       "      <th>estudios</th>\n",
       "      <th>ocupación</th>\n",
       "      <th>ingresos</th>\n",
       "      <th>sector</th>\n",
       "      <th>edad</th>\n",
       "      <th>cluster</th>\n",
       "    </tr>\n",
       "  </thead>\n",
       "  <tbody>\n",
       "    <tr>\n",
       "      <th>19</th>\n",
       "      <td>28.571429</td>\n",
       "      <td>1</td>\n",
       "      <td>260.0</td>\n",
       "      <td>10</td>\n",
       "      <td>23</td>\n",
       "      <td>2</td>\n",
       "    </tr>\n",
       "  </tbody>\n",
       "</table>\n",
       "</div>"
      ],
      "text/plain": [
       "     estudios  ocupación  ingresos  sector  edad  cluster\n",
       "19  28.571429          1     260.0      10    23        2"
      ]
     },
     "execution_count": 100,
     "metadata": {},
     "output_type": "execute_result"
    }
   ],
   "source": [
    "data_encoded.iloc[19:20]"
   ]
  },
  {
   "cell_type": "markdown",
   "id": "8d99246e",
   "metadata": {},
   "source": [
    "#### Input of data in kmeans model"
   ]
  },
  {
   "cell_type": "code",
   "execution_count": 101,
   "id": "a5e682c5",
   "metadata": {},
   "outputs": [
    {
     "data": {
      "text/plain": [
       "array([1])"
      ]
     },
     "execution_count": 101,
     "metadata": {},
     "output_type": "execute_result"
    }
   ],
   "source": [
    "dict1={'estudios':[28], 'ocupación':[1], 'ingresos':[260], 'sector':[10],'edad':[23]}\n",
    "data=pd.DataFrame(data=dict1)\n",
    "kmeans2.predict(data)"
   ]
  },
  {
   "cell_type": "code",
   "execution_count": 102,
   "id": "9a555701",
   "metadata": {},
   "outputs": [],
   "source": [
    "import pickle"
   ]
  },
  {
   "cell_type": "code",
   "execution_count": 103,
   "id": "21e26606",
   "metadata": {},
   "outputs": [],
   "source": [
    "# save the model to disk\n",
    "filename = 'kmeans_model.sav'\n",
    "pickle.dump(kmeans2, open(filename, 'wb'))"
   ]
  },
  {
   "cell_type": "markdown",
   "id": "eddd700c",
   "metadata": {},
   "source": [
    "## Conclusions"
   ]
  },
  {
   "cell_type": "code",
   "execution_count": 104,
   "id": "ef3b9bef",
   "metadata": {},
   "outputs": [
    {
     "data": {
      "text/plain": [
       "Text(0, 0.5, 'edad')"
      ]
     },
     "execution_count": 104,
     "metadata": {},
     "output_type": "execute_result"
    },
    {
     "data": {
      "image/png": "[encoded data removed]",
      "text/plain": [
       "<Figure size 400x300 with 1 Axes>"
      ]
     },
     "metadata": {},
     "output_type": "display_data"
    }
   ],
   "source": [
    "x_name='ingresos'\n",
    "y_name='edad'\n",
    "\n",
    "plt.style.use('default')\n",
    "plt.figure(figsize=(4, 3))\n",
    "plt.scatter(data_encoded[x_name], \n",
    "            data_encoded[y_name], \n",
    "            c = kmeans2.labels_.astype(float), s=10, cmap='tab20b', marker='x')\n",
    "plt.title(x_name+' vs '+y_name, fontsize=18, fontweight='bold')\n",
    "plt.xlabel(x_name, fontsize=15)\n",
    "plt.ylabel(y_name, fontsize=15)"
   ]
  },
  {
   "cell_type": "markdown",
   "id": "ddf6deaa",
   "metadata": {},
   "source": [
    "- This graph shows us that there two groups of people who have incomes around USD200 and USD600, and the most population has more points between 20 and 40 years old."
   ]
  },
  {
   "cell_type": "code",
   "execution_count": 106,
   "id": "71f87e3c",
   "metadata": {},
   "outputs": [
    {
     "data": {
      "text/plain": [
       "Text(0, 0.5, 'sector')"
      ]
     },
     "execution_count": 106,
     "metadata": {},
     "output_type": "execute_result"
    },
    {
     "data": {
      "image/png": "[encoded data removed]",
      "text/plain": [
       "<Figure size 400x300 with 1 Axes>"
      ]
     },
     "metadata": {},
     "output_type": "display_data"
    }
   ],
   "source": [
    "x_name='ingresos'\n",
    "y_name='sector'\n",
    "\n",
    "plt.style.use('default')\n",
    "plt.figure(figsize=(4, 3))\n",
    "plt.scatter(data_encoded[x_name], \n",
    "            data_encoded[y_name], \n",
    "            c = kmeans2.labels_.astype(float), s=10, cmap='tab20b', marker='x')\n",
    "plt.title(x_name+' vs '+y_name, fontsize=18, fontweight='bold')\n",
    "plt.xlabel(x_name, fontsize=15)\n",
    "plt.ylabel(y_name, fontsize=15)"
   ]
  },
  {
   "cell_type": "markdown",
   "id": "320c4f0a",
   "metadata": {},
   "source": [
    "- According to the incomes, the people who have less than USD400 monthly incomes buy the products no matter if they live kilometers near or far from the institution. And there are a little people who perceives more than USD1000 monthly incomes that often buy the products, either they live 10 or 50 kms from the institution. "
   ]
  },
  {
   "cell_type": "code",
   "execution_count": null,
   "id": "27fbd50f",
   "metadata": {},
   "outputs": [],
   "source": []
  }
 ],
 "metadata": {
  "kernelspec": {
   "display_name": "Python 3 (ipykernel)",
   "language": "python",
   "name": "python3"
  },
  "language_info": {
   "codemirror_mode": {
    "name": "ipython",
    "version": 3
   },
   "file_extension": ".py",
   "mimetype": "text/x-python",
   "name": "python",
   "nbconvert_exporter": "python",
   "pygments_lexer": "ipython3",
   "version": "3.9.7"
  }
 },
 "nbformat": 4,
 "nbformat_minor": 5
}
